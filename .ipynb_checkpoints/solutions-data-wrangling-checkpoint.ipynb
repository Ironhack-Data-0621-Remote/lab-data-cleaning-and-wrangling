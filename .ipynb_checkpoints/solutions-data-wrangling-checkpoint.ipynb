{
 "cells": [
  {
   "cell_type": "markdown",
   "id": "65342b6c",
   "metadata": {},
   "source": [
    "# Data pre-processing"
   ]
  },
  {
   "cell_type": "markdown",
   "id": "e92d920f",
   "metadata": {
    "toc": true
   },
   "source": [
    "<h1>Table of Contents<span class=\"tocSkip\"></span></h1>\n",
    "<div class=\"toc\"><ul class=\"toc-item\"><li><span><a href=\"#Lab-|-Cleaning-numerical-data\" data-toc-modified-id=\"Lab-|-Cleaning-numerical-data-1\"><span class=\"toc-item-num\">1&nbsp;&nbsp;</span>Lab | Cleaning numerical data</a></span><ul class=\"toc-item\"><li><span><a href=\"#Import-the-necessary-libraries.\" data-toc-modified-id=\"Import-the-necessary-libraries.-1.1\"><span class=\"toc-item-num\">1.1&nbsp;&nbsp;</span>Import the necessary libraries.</a></span></li><li><span><a href=\"#Load-the-we_fn_use_c_marketing_customer_value_analysis.csv-into-the-variable-customer_df.\" data-toc-modified-id=\"Load-the-we_fn_use_c_marketing_customer_value_analysis.csv-into-the-variable-customer_df.-1.2\"><span class=\"toc-item-num\">1.2&nbsp;&nbsp;</span>Load the we_fn_use_c_marketing_customer_value_analysis.csv into the variable customer_df.</a></span></li><li><span><a href=\"#First-look-at-its-main-features-(head,-shape,-info).\" data-toc-modified-id=\"First-look-at-its-main-features-(head,-shape,-info).-1.3\"><span class=\"toc-item-num\">1.3&nbsp;&nbsp;</span>First look at its main features (head, shape, info).</a></span></li><li><span><a href=\"#Rename-the-columns-so-they-follow-the-PE8-(snake-case).\" data-toc-modified-id=\"Rename-the-columns-so-they-follow-the-PE8-(snake-case).-1.4\"><span class=\"toc-item-num\">1.4&nbsp;&nbsp;</span>Rename the columns so they follow the PE8 (snake case).</a></span></li><li><span><a href=\"#Change-effective-to-date-column-to-datetime-format.\" data-toc-modified-id=\"Change-effective-to-date-column-to-datetime-format.-1.5\"><span class=\"toc-item-num\">1.5&nbsp;&nbsp;</span>Change effective to date column to datetime format.</a></span></li><li><span><a href=\"#Check-NaN-values-per-column.\" data-toc-modified-id=\"Check-NaN-values-per-column.-1.6\"><span class=\"toc-item-num\">1.6&nbsp;&nbsp;</span>Check NaN values per column.</a></span></li><li><span><a href=\"#Define-a-function-that-differentiates-between-continuous-and-discrete-variables.-Hint:-A-number-of-unique-values-might-be-useful.-Store-continuous-data-into-a-continuous-variable-and-do-the-same-for-discrete-and-categorical.\" data-toc-modified-id=\"Define-a-function-that-differentiates-between-continuous-and-discrete-variables.-Hint:-A-number-of-unique-values-might-be-useful.-Store-continuous-data-into-a-continuous-variable-and-do-the-same-for-discrete-and-categorical.-1.7\"><span class=\"toc-item-num\">1.7&nbsp;&nbsp;</span>Define a function that differentiates between continuous and discrete variables. Hint: A number of unique values might be useful. Store continuous data into a continuous variable and do the same for discrete and categorical.</a></span></li><li><span><a href=\"#For-the-categorical-data,-check-if-there-is-some-kind-of-text-in-a-variable-so-we-would-need-to-clean-it.-Hint:-Use-the-same-method-you-used-in-step-7.-Depending-on-the-implementation,-decide-what-to-do-with-the-variables-you-get.\" data-toc-modified-id=\"For-the-categorical-data,-check-if-there-is-some-kind-of-text-in-a-variable-so-we-would-need-to-clean-it.-Hint:-Use-the-same-method-you-used-in-step-7.-Depending-on-the-implementation,-decide-what-to-do-with-the-variables-you-get.-1.8\"><span class=\"toc-item-num\">1.8&nbsp;&nbsp;</span>For the categorical data, check if there is some kind of text in a variable so we would need to clean it. Hint: Use the same method you used in step 7. Depending on the implementation, decide what to do with the variables you get.</a></span></li><li><span><a href=\"#Get-categorical-features.\" data-toc-modified-id=\"Get-categorical-features.-1.9\"><span class=\"toc-item-num\">1.9&nbsp;&nbsp;</span>Get categorical features.</a></span></li><li><span><a href=\"#What-should-we-do-with-the-customer_id-column?\" data-toc-modified-id=\"What-should-we-do-with-the-customer_id-column?-1.10\"><span class=\"toc-item-num\">1.10&nbsp;&nbsp;</span>What should we do with the customer_id column?</a></span></li></ul></li><li><span><a href=\"#Lab-|-Feature-extraction\" data-toc-modified-id=\"Lab-|-Feature-extraction-2\"><span class=\"toc-item-num\">2&nbsp;&nbsp;</span>Lab | Feature extraction</a></span><ul class=\"toc-item\"><li><span><a href=\"#Open-the-categoricals-variable-we-created-before.\" data-toc-modified-id=\"Open-the-categoricals-variable-we-created-before.-2.1\"><span class=\"toc-item-num\">2.1&nbsp;&nbsp;</span>Open the categoricals variable we created before.</a></span></li><li><span><a href=\"#Plot-all-the-categorical-variables-with-the-proper-plot.-What-can-you-see?\" data-toc-modified-id=\"Plot-all-the-categorical-variables-with-the-proper-plot.-What-can-you-see?-2.2\"><span class=\"toc-item-num\">2.2&nbsp;&nbsp;</span>Plot all the categorical variables with the proper plot. What can you see?</a></span></li><li><span><a href=\"#There-might-be-some-columns-that-seem-to-be-redundant,-check-their-values-to-be-sure.-What-should-we-do-with-them?\" data-toc-modified-id=\"There-might-be-some-columns-that-seem-to-be-redundant,-check-their-values-to-be-sure.-What-should-we-do-with-them?-2.3\"><span class=\"toc-item-num\">2.3&nbsp;&nbsp;</span>There might be some columns that seem to be redundant, check their values to be sure. What should we do with them?</a></span></li><li><span><a href=\"#Plot-time-variable.-Can-you-extract-something-from-it?\" data-toc-modified-id=\"Plot-time-variable.-Can-you-extract-something-from-it?-2.4\"><span class=\"toc-item-num\">2.4&nbsp;&nbsp;</span>Plot time variable. Can you extract something from it?</a></span></li></ul></li><li><span><a href=\"#Lab-|-Data-cleaning-and-wrangling\" data-toc-modified-id=\"Lab-|-Data-cleaning-and-wrangling-3\"><span class=\"toc-item-num\">3&nbsp;&nbsp;</span>Lab | Data cleaning and wrangling</a></span><ul class=\"toc-item\"><li><span><a href=\"#We-will-start-with-removing-outliers.-So-far,-we-have-discussed-different-methods-to-remove-outliers.-Use-the-one-you-feel-more-comfortable-with,-define-a-function-for-that.-Use-the-function-to-remove-the-outliers-and-apply-it-to-the-dataframe.\" data-toc-modified-id=\"We-will-start-with-removing-outliers.-So-far,-we-have-discussed-different-methods-to-remove-outliers.-Use-the-one-you-feel-more-comfortable-with,-define-a-function-for-that.-Use-the-function-to-remove-the-outliers-and-apply-it-to-the-dataframe.-3.1\"><span class=\"toc-item-num\">3.1&nbsp;&nbsp;</span>We will start with removing outliers. So far, we have discussed different methods to remove outliers. Use the one you feel more comfortable with, define a function for that. Use the function to remove the outliers and apply it to the dataframe.</a></span></li><li><span><a href=\"#Create-a-copy-of-the-dataframe-for-the-data-wrangling.\" data-toc-modified-id=\"Create-a-copy-of-the-dataframe-for-the-data-wrangling.-3.2\"><span class=\"toc-item-num\">3.2&nbsp;&nbsp;</span>Create a copy of the dataframe for the data wrangling.</a></span></li><li><span><a href=\"#Normalize-the-continuous-variables.-You-can-use-any-one-method-you-want.\" data-toc-modified-id=\"Normalize-the-continuous-variables.-You-can-use-any-one-method-you-want.-3.3\"><span class=\"toc-item-num\">3.3&nbsp;&nbsp;</span>Normalize the continuous variables. You can use any one method you want.</a></span></li><li><span><a href=\"#Encode-the-categorical-variables\" data-toc-modified-id=\"Encode-the-categorical-variables-3.4\"><span class=\"toc-item-num\">3.4&nbsp;&nbsp;</span>Encode the categorical variables</a></span></li><li><span><a href=\"#The-time-variable-can-be-useful.-Try-to-transform-its-data-into-a-useful-one.-Hint:-Day-week-and-month-as-integers-might-be-useful.\" data-toc-modified-id=\"The-time-variable-can-be-useful.-Try-to-transform-its-data-into-a-useful-one.-Hint:-Day-week-and-month-as-integers-might-be-useful.-3.5\"><span class=\"toc-item-num\">3.5&nbsp;&nbsp;</span>The time variable can be useful. Try to transform its data into a useful one. Hint: Day week and month as integers might be useful.</a></span></li><li><span><a href=\"#Since-the-model-will-only-accept-numerical-data,-check-and-make-sure-that-every-column-is-numerical,-if-some-are-not,-change-it-using-encoding.\" data-toc-modified-id=\"Since-the-model-will-only-accept-numerical-data,-check-and-make-sure-that-every-column-is-numerical,-if-some-are-not,-change-it-using-encoding.-3.6\"><span class=\"toc-item-num\">3.6&nbsp;&nbsp;</span>Since the model will only accept numerical data, check and make sure that every column is numerical, if some are not, change it using encoding.</a></span></li></ul></li></ul></div>"
   ]
  },
  {
   "cell_type": "markdown",
   "id": "f85f6b9e",
   "metadata": {},
   "source": [
    "## Lab | Cleaning numerical data"
   ]
  },
  {
   "cell_type": "markdown",
   "id": "e058abdc",
   "metadata": {},
   "source": [
    "For this lab, we will be using the dataset in the Customer Analysis Business Case. This dataset can be found in files_for_lab folder."
   ]
  },
  {
   "cell_type": "markdown",
   "id": "ce316d8a",
   "metadata": {},
   "source": [
    "### Import the necessary libraries."
   ]
  },
  {
   "cell_type": "code",
   "execution_count": 1,
   "id": "4b50c2f3",
   "metadata": {},
   "outputs": [],
   "source": [
    "import pandas as pd\n",
    "import numpy as np\n",
    "\n",
    "import seaborn as sns\n",
    "import matplotlib.pyplot as plt\n",
    "\n",
    "import re\n",
    "\n",
    "from sklearn.preprocessing import StandardScaler\n",
    "import pickle\n",
    "from sklearn.preprocessing import OneHotEncoder\n",
    "from sklearn.model_selection import train_test_split\n",
    "\n",
    "import warnings\n",
    "warnings.filterwarnings('ignore')"
   ]
  },
  {
   "cell_type": "markdown",
   "id": "445f4cd7",
   "metadata": {},
   "source": [
    "### Load the we_fn_use_c_marketing_customer_value_analysis.csv into the variable customer_df."
   ]
  },
  {
   "cell_type": "code",
   "execution_count": 2,
   "id": "a1129754",
   "metadata": {},
   "outputs": [],
   "source": [
    "customer_df = pd.read_csv('we_fn_use_c_marketing_customer_value_analysis.csv')"
   ]
  },
  {
   "cell_type": "markdown",
   "id": "5040316b",
   "metadata": {},
   "source": [
    "### First look at its main features (head, shape, info)."
   ]
  },
  {
   "cell_type": "code",
   "execution_count": 3,
   "id": "0d867b71",
   "metadata": {},
   "outputs": [
    {
     "data": {
      "text/html": [
       "<div>\n",
       "<style scoped>\n",
       "    .dataframe tbody tr th:only-of-type {\n",
       "        vertical-align: middle;\n",
       "    }\n",
       "\n",
       "    .dataframe tbody tr th {\n",
       "        vertical-align: top;\n",
       "    }\n",
       "\n",
       "    .dataframe thead th {\n",
       "        text-align: right;\n",
       "    }\n",
       "</style>\n",
       "<table border=\"1\" class=\"dataframe\">\n",
       "  <thead>\n",
       "    <tr style=\"text-align: right;\">\n",
       "      <th></th>\n",
       "      <th>Customer</th>\n",
       "      <th>State</th>\n",
       "      <th>Customer Lifetime Value</th>\n",
       "      <th>Response</th>\n",
       "      <th>Coverage</th>\n",
       "      <th>Education</th>\n",
       "      <th>Effective To Date</th>\n",
       "      <th>EmploymentStatus</th>\n",
       "      <th>Gender</th>\n",
       "      <th>Income</th>\n",
       "      <th>...</th>\n",
       "      <th>Months Since Policy Inception</th>\n",
       "      <th>Number of Open Complaints</th>\n",
       "      <th>Number of Policies</th>\n",
       "      <th>Policy Type</th>\n",
       "      <th>Policy</th>\n",
       "      <th>Renew Offer Type</th>\n",
       "      <th>Sales Channel</th>\n",
       "      <th>Total Claim Amount</th>\n",
       "      <th>Vehicle Class</th>\n",
       "      <th>Vehicle Size</th>\n",
       "    </tr>\n",
       "  </thead>\n",
       "  <tbody>\n",
       "    <tr>\n",
       "      <th>0</th>\n",
       "      <td>BU79786</td>\n",
       "      <td>Washington</td>\n",
       "      <td>2763.519279</td>\n",
       "      <td>No</td>\n",
       "      <td>Basic</td>\n",
       "      <td>Bachelor</td>\n",
       "      <td>2/24/11</td>\n",
       "      <td>Employed</td>\n",
       "      <td>F</td>\n",
       "      <td>56274</td>\n",
       "      <td>...</td>\n",
       "      <td>5</td>\n",
       "      <td>0</td>\n",
       "      <td>1</td>\n",
       "      <td>Corporate Auto</td>\n",
       "      <td>Corporate L3</td>\n",
       "      <td>Offer1</td>\n",
       "      <td>Agent</td>\n",
       "      <td>384.811147</td>\n",
       "      <td>Two-Door Car</td>\n",
       "      <td>Medsize</td>\n",
       "    </tr>\n",
       "    <tr>\n",
       "      <th>1</th>\n",
       "      <td>QZ44356</td>\n",
       "      <td>Arizona</td>\n",
       "      <td>6979.535903</td>\n",
       "      <td>No</td>\n",
       "      <td>Extended</td>\n",
       "      <td>Bachelor</td>\n",
       "      <td>1/31/11</td>\n",
       "      <td>Unemployed</td>\n",
       "      <td>F</td>\n",
       "      <td>0</td>\n",
       "      <td>...</td>\n",
       "      <td>42</td>\n",
       "      <td>0</td>\n",
       "      <td>8</td>\n",
       "      <td>Personal Auto</td>\n",
       "      <td>Personal L3</td>\n",
       "      <td>Offer3</td>\n",
       "      <td>Agent</td>\n",
       "      <td>1131.464935</td>\n",
       "      <td>Four-Door Car</td>\n",
       "      <td>Medsize</td>\n",
       "    </tr>\n",
       "    <tr>\n",
       "      <th>2</th>\n",
       "      <td>AI49188</td>\n",
       "      <td>Nevada</td>\n",
       "      <td>12887.431650</td>\n",
       "      <td>No</td>\n",
       "      <td>Premium</td>\n",
       "      <td>Bachelor</td>\n",
       "      <td>2/19/11</td>\n",
       "      <td>Employed</td>\n",
       "      <td>F</td>\n",
       "      <td>48767</td>\n",
       "      <td>...</td>\n",
       "      <td>38</td>\n",
       "      <td>0</td>\n",
       "      <td>2</td>\n",
       "      <td>Personal Auto</td>\n",
       "      <td>Personal L3</td>\n",
       "      <td>Offer1</td>\n",
       "      <td>Agent</td>\n",
       "      <td>566.472247</td>\n",
       "      <td>Two-Door Car</td>\n",
       "      <td>Medsize</td>\n",
       "    </tr>\n",
       "    <tr>\n",
       "      <th>3</th>\n",
       "      <td>WW63253</td>\n",
       "      <td>California</td>\n",
       "      <td>7645.861827</td>\n",
       "      <td>No</td>\n",
       "      <td>Basic</td>\n",
       "      <td>Bachelor</td>\n",
       "      <td>1/20/11</td>\n",
       "      <td>Unemployed</td>\n",
       "      <td>M</td>\n",
       "      <td>0</td>\n",
       "      <td>...</td>\n",
       "      <td>65</td>\n",
       "      <td>0</td>\n",
       "      <td>7</td>\n",
       "      <td>Corporate Auto</td>\n",
       "      <td>Corporate L2</td>\n",
       "      <td>Offer1</td>\n",
       "      <td>Call Center</td>\n",
       "      <td>529.881344</td>\n",
       "      <td>SUV</td>\n",
       "      <td>Medsize</td>\n",
       "    </tr>\n",
       "    <tr>\n",
       "      <th>4</th>\n",
       "      <td>HB64268</td>\n",
       "      <td>Washington</td>\n",
       "      <td>2813.692575</td>\n",
       "      <td>No</td>\n",
       "      <td>Basic</td>\n",
       "      <td>Bachelor</td>\n",
       "      <td>2/3/11</td>\n",
       "      <td>Employed</td>\n",
       "      <td>M</td>\n",
       "      <td>43836</td>\n",
       "      <td>...</td>\n",
       "      <td>44</td>\n",
       "      <td>0</td>\n",
       "      <td>1</td>\n",
       "      <td>Personal Auto</td>\n",
       "      <td>Personal L1</td>\n",
       "      <td>Offer1</td>\n",
       "      <td>Agent</td>\n",
       "      <td>138.130879</td>\n",
       "      <td>Four-Door Car</td>\n",
       "      <td>Medsize</td>\n",
       "    </tr>\n",
       "  </tbody>\n",
       "</table>\n",
       "<p>5 rows × 24 columns</p>\n",
       "</div>"
      ],
      "text/plain": [
       "  Customer       State  Customer Lifetime Value Response  Coverage Education  \\\n",
       "0  BU79786  Washington              2763.519279       No     Basic  Bachelor   \n",
       "1  QZ44356     Arizona              6979.535903       No  Extended  Bachelor   \n",
       "2  AI49188      Nevada             12887.431650       No   Premium  Bachelor   \n",
       "3  WW63253  California              7645.861827       No     Basic  Bachelor   \n",
       "4  HB64268  Washington              2813.692575       No     Basic  Bachelor   \n",
       "\n",
       "  Effective To Date EmploymentStatus Gender  Income  ...  \\\n",
       "0           2/24/11         Employed      F   56274  ...   \n",
       "1           1/31/11       Unemployed      F       0  ...   \n",
       "2           2/19/11         Employed      F   48767  ...   \n",
       "3           1/20/11       Unemployed      M       0  ...   \n",
       "4            2/3/11         Employed      M   43836  ...   \n",
       "\n",
       "  Months Since Policy Inception Number of Open Complaints  Number of Policies  \\\n",
       "0                             5                         0                   1   \n",
       "1                            42                         0                   8   \n",
       "2                            38                         0                   2   \n",
       "3                            65                         0                   7   \n",
       "4                            44                         0                   1   \n",
       "\n",
       "      Policy Type        Policy  Renew Offer Type  Sales Channel  \\\n",
       "0  Corporate Auto  Corporate L3            Offer1          Agent   \n",
       "1   Personal Auto   Personal L3            Offer3          Agent   \n",
       "2   Personal Auto   Personal L3            Offer1          Agent   \n",
       "3  Corporate Auto  Corporate L2            Offer1    Call Center   \n",
       "4   Personal Auto   Personal L1            Offer1          Agent   \n",
       "\n",
       "  Total Claim Amount  Vehicle Class Vehicle Size  \n",
       "0         384.811147   Two-Door Car      Medsize  \n",
       "1        1131.464935  Four-Door Car      Medsize  \n",
       "2         566.472247   Two-Door Car      Medsize  \n",
       "3         529.881344            SUV      Medsize  \n",
       "4         138.130879  Four-Door Car      Medsize  \n",
       "\n",
       "[5 rows x 24 columns]"
      ]
     },
     "execution_count": 3,
     "metadata": {},
     "output_type": "execute_result"
    }
   ],
   "source": [
    "customer_df.head()"
   ]
  },
  {
   "cell_type": "code",
   "execution_count": 4,
   "id": "c7617669-6516-439e-bd59-d92b885d3ea1",
   "metadata": {},
   "outputs": [
    {
     "data": {
      "text/plain": [
       "(9134, 24)"
      ]
     },
     "execution_count": 4,
     "metadata": {},
     "output_type": "execute_result"
    }
   ],
   "source": [
    "customer_df.shape"
   ]
  },
  {
   "cell_type": "code",
   "execution_count": 5,
   "id": "dca84407-2cf6-48fc-9f41-b2464c5be6ea",
   "metadata": {},
   "outputs": [
    {
     "name": "stdout",
     "output_type": "stream",
     "text": [
      "<class 'pandas.core.frame.DataFrame'>\n",
      "RangeIndex: 9134 entries, 0 to 9133\n",
      "Data columns (total 24 columns):\n",
      " #   Column                         Non-Null Count  Dtype  \n",
      "---  ------                         --------------  -----  \n",
      " 0   Customer                       9134 non-null   object \n",
      " 1   State                          9134 non-null   object \n",
      " 2   Customer Lifetime Value        9134 non-null   float64\n",
      " 3   Response                       9134 non-null   object \n",
      " 4   Coverage                       9134 non-null   object \n",
      " 5   Education                      9134 non-null   object \n",
      " 6   Effective To Date              9134 non-null   object \n",
      " 7   EmploymentStatus               9134 non-null   object \n",
      " 8   Gender                         9134 non-null   object \n",
      " 9   Income                         9134 non-null   int64  \n",
      " 10  Location Code                  9134 non-null   object \n",
      " 11  Marital Status                 9134 non-null   object \n",
      " 12  Monthly Premium Auto           9134 non-null   int64  \n",
      " 13  Months Since Last Claim        9134 non-null   int64  \n",
      " 14  Months Since Policy Inception  9134 non-null   int64  \n",
      " 15  Number of Open Complaints      9134 non-null   int64  \n",
      " 16  Number of Policies             9134 non-null   int64  \n",
      " 17  Policy Type                    9134 non-null   object \n",
      " 18  Policy                         9134 non-null   object \n",
      " 19  Renew Offer Type               9134 non-null   object \n",
      " 20  Sales Channel                  9134 non-null   object \n",
      " 21  Total Claim Amount             9134 non-null   float64\n",
      " 22  Vehicle Class                  9134 non-null   object \n",
      " 23  Vehicle Size                   9134 non-null   object \n",
      "dtypes: float64(2), int64(6), object(16)\n",
      "memory usage: 1.7+ MB\n"
     ]
    }
   ],
   "source": [
    "customer_df.info()"
   ]
  },
  {
   "cell_type": "markdown",
   "id": "407e1d74",
   "metadata": {},
   "source": [
    "### Rename the columns so they follow the PE8 (snake case)."
   ]
  },
  {
   "cell_type": "code",
   "execution_count": 6,
   "id": "03540b59",
   "metadata": {},
   "outputs": [],
   "source": [
    "def snake_case(df):\n",
    "    df.columns = df.columns.str.lower().str.replace(' ', '_')\n",
    "    return df"
   ]
  },
  {
   "cell_type": "code",
   "execution_count": 7,
   "id": "23b46199-5aaa-472f-92a7-b95a5727ce38",
   "metadata": {},
   "outputs": [
    {
     "data": {
      "text/plain": [
       "Index(['customer', 'state', 'customer_lifetime_value', 'response', 'coverage',\n",
       "       'education', 'effective_to_date', 'employmentstatus', 'gender',\n",
       "       'income', 'location_code', 'marital_status', 'monthly_premium_auto',\n",
       "       'months_since_last_claim', 'months_since_policy_inception',\n",
       "       'number_of_open_complaints', 'number_of_policies', 'policy_type',\n",
       "       'policy', 'renew_offer_type', 'sales_channel', 'total_claim_amount',\n",
       "       'vehicle_class', 'vehicle_size'],\n",
       "      dtype='object')"
      ]
     },
     "execution_count": 7,
     "metadata": {},
     "output_type": "execute_result"
    }
   ],
   "source": [
    "snake_case(customer_df)\n",
    "customer_df.columns"
   ]
  },
  {
   "cell_type": "markdown",
   "id": "30a9d36f",
   "metadata": {},
   "source": [
    "### Change effective to date column to datetime format."
   ]
  },
  {
   "cell_type": "code",
   "execution_count": 8,
   "id": "cd0ce652",
   "metadata": {},
   "outputs": [],
   "source": [
    "customer_df['effective_to_date'] = pd.to_datetime(customer_df['effective_to_date'])"
   ]
  },
  {
   "cell_type": "code",
   "execution_count": 9,
   "id": "f50ec2f2-aec2-4c05-8bc1-a74eea0006bd",
   "metadata": {},
   "outputs": [
    {
     "name": "stdout",
     "output_type": "stream",
     "text": [
      "<class 'pandas.core.frame.DataFrame'>\n",
      "RangeIndex: 9134 entries, 0 to 9133\n",
      "Data columns (total 24 columns):\n",
      " #   Column                         Non-Null Count  Dtype         \n",
      "---  ------                         --------------  -----         \n",
      " 0   customer                       9134 non-null   object        \n",
      " 1   state                          9134 non-null   object        \n",
      " 2   customer_lifetime_value        9134 non-null   float64       \n",
      " 3   response                       9134 non-null   object        \n",
      " 4   coverage                       9134 non-null   object        \n",
      " 5   education                      9134 non-null   object        \n",
      " 6   effective_to_date              9134 non-null   datetime64[ns]\n",
      " 7   employmentstatus               9134 non-null   object        \n",
      " 8   gender                         9134 non-null   object        \n",
      " 9   income                         9134 non-null   int64         \n",
      " 10  location_code                  9134 non-null   object        \n",
      " 11  marital_status                 9134 non-null   object        \n",
      " 12  monthly_premium_auto           9134 non-null   int64         \n",
      " 13  months_since_last_claim        9134 non-null   int64         \n",
      " 14  months_since_policy_inception  9134 non-null   int64         \n",
      " 15  number_of_open_complaints      9134 non-null   int64         \n",
      " 16  number_of_policies             9134 non-null   int64         \n",
      " 17  policy_type                    9134 non-null   object        \n",
      " 18  policy                         9134 non-null   object        \n",
      " 19  renew_offer_type               9134 non-null   object        \n",
      " 20  sales_channel                  9134 non-null   object        \n",
      " 21  total_claim_amount             9134 non-null   float64       \n",
      " 22  vehicle_class                  9134 non-null   object        \n",
      " 23  vehicle_size                   9134 non-null   object        \n",
      "dtypes: datetime64[ns](1), float64(2), int64(6), object(15)\n",
      "memory usage: 1.7+ MB\n"
     ]
    }
   ],
   "source": [
    "customer_df.info()"
   ]
  },
  {
   "cell_type": "markdown",
   "id": "60e33cbe",
   "metadata": {},
   "source": [
    "### Check NaN values per column."
   ]
  },
  {
   "cell_type": "code",
   "execution_count": 10,
   "id": "0035b513-94dd-4c9c-8e3c-858253a110b5",
   "metadata": {},
   "outputs": [
    {
     "data": {
      "text/plain": [
       "customer                         0\n",
       "state                            0\n",
       "customer_lifetime_value          0\n",
       "response                         0\n",
       "coverage                         0\n",
       "education                        0\n",
       "effective_to_date                0\n",
       "employmentstatus                 0\n",
       "gender                           0\n",
       "income                           0\n",
       "location_code                    0\n",
       "marital_status                   0\n",
       "monthly_premium_auto             0\n",
       "months_since_last_claim          0\n",
       "months_since_policy_inception    0\n",
       "number_of_open_complaints        0\n",
       "number_of_policies               0\n",
       "policy_type                      0\n",
       "policy                           0\n",
       "renew_offer_type                 0\n",
       "sales_channel                    0\n",
       "total_claim_amount               0\n",
       "vehicle_class                    0\n",
       "vehicle_size                     0\n",
       "dtype: int64"
      ]
     },
     "execution_count": 10,
     "metadata": {},
     "output_type": "execute_result"
    }
   ],
   "source": [
    "customer_df.isna().sum()"
   ]
  },
  {
   "cell_type": "code",
   "execution_count": 11,
   "id": "5c902ff4-6ad5-4680-9e22-595720e08bbf",
   "metadata": {},
   "outputs": [
    {
     "data": {
      "text/html": [
       "<div>\n",
       "<style scoped>\n",
       "    .dataframe tbody tr th:only-of-type {\n",
       "        vertical-align: middle;\n",
       "    }\n",
       "\n",
       "    .dataframe tbody tr th {\n",
       "        vertical-align: top;\n",
       "    }\n",
       "\n",
       "    .dataframe thead th {\n",
       "        text-align: right;\n",
       "    }\n",
       "</style>\n",
       "<table border=\"1\" class=\"dataframe\">\n",
       "  <thead>\n",
       "    <tr style=\"text-align: right;\">\n",
       "      <th></th>\n",
       "      <th>percentage_nulls</th>\n",
       "    </tr>\n",
       "  </thead>\n",
       "  <tbody>\n",
       "    <tr>\n",
       "      <th>customer</th>\n",
       "      <td>0.0</td>\n",
       "    </tr>\n",
       "    <tr>\n",
       "      <th>state</th>\n",
       "      <td>0.0</td>\n",
       "    </tr>\n",
       "    <tr>\n",
       "      <th>vehicle_class</th>\n",
       "      <td>0.0</td>\n",
       "    </tr>\n",
       "    <tr>\n",
       "      <th>total_claim_amount</th>\n",
       "      <td>0.0</td>\n",
       "    </tr>\n",
       "    <tr>\n",
       "      <th>sales_channel</th>\n",
       "      <td>0.0</td>\n",
       "    </tr>\n",
       "    <tr>\n",
       "      <th>renew_offer_type</th>\n",
       "      <td>0.0</td>\n",
       "    </tr>\n",
       "    <tr>\n",
       "      <th>policy</th>\n",
       "      <td>0.0</td>\n",
       "    </tr>\n",
       "    <tr>\n",
       "      <th>policy_type</th>\n",
       "      <td>0.0</td>\n",
       "    </tr>\n",
       "    <tr>\n",
       "      <th>number_of_policies</th>\n",
       "      <td>0.0</td>\n",
       "    </tr>\n",
       "    <tr>\n",
       "      <th>number_of_open_complaints</th>\n",
       "      <td>0.0</td>\n",
       "    </tr>\n",
       "    <tr>\n",
       "      <th>months_since_policy_inception</th>\n",
       "      <td>0.0</td>\n",
       "    </tr>\n",
       "    <tr>\n",
       "      <th>months_since_last_claim</th>\n",
       "      <td>0.0</td>\n",
       "    </tr>\n",
       "    <tr>\n",
       "      <th>monthly_premium_auto</th>\n",
       "      <td>0.0</td>\n",
       "    </tr>\n",
       "    <tr>\n",
       "      <th>marital_status</th>\n",
       "      <td>0.0</td>\n",
       "    </tr>\n",
       "    <tr>\n",
       "      <th>location_code</th>\n",
       "      <td>0.0</td>\n",
       "    </tr>\n",
       "    <tr>\n",
       "      <th>income</th>\n",
       "      <td>0.0</td>\n",
       "    </tr>\n",
       "    <tr>\n",
       "      <th>gender</th>\n",
       "      <td>0.0</td>\n",
       "    </tr>\n",
       "    <tr>\n",
       "      <th>employmentstatus</th>\n",
       "      <td>0.0</td>\n",
       "    </tr>\n",
       "    <tr>\n",
       "      <th>effective_to_date</th>\n",
       "      <td>0.0</td>\n",
       "    </tr>\n",
       "    <tr>\n",
       "      <th>education</th>\n",
       "      <td>0.0</td>\n",
       "    </tr>\n",
       "    <tr>\n",
       "      <th>coverage</th>\n",
       "      <td>0.0</td>\n",
       "    </tr>\n",
       "    <tr>\n",
       "      <th>response</th>\n",
       "      <td>0.0</td>\n",
       "    </tr>\n",
       "    <tr>\n",
       "      <th>customer_lifetime_value</th>\n",
       "      <td>0.0</td>\n",
       "    </tr>\n",
       "    <tr>\n",
       "      <th>vehicle_size</th>\n",
       "      <td>0.0</td>\n",
       "    </tr>\n",
       "  </tbody>\n",
       "</table>\n",
       "</div>"
      ],
      "text/plain": [
       "                               percentage_nulls\n",
       "customer                                    0.0\n",
       "state                                       0.0\n",
       "vehicle_class                               0.0\n",
       "total_claim_amount                          0.0\n",
       "sales_channel                               0.0\n",
       "renew_offer_type                            0.0\n",
       "policy                                      0.0\n",
       "policy_type                                 0.0\n",
       "number_of_policies                          0.0\n",
       "number_of_open_complaints                   0.0\n",
       "months_since_policy_inception               0.0\n",
       "months_since_last_claim                     0.0\n",
       "monthly_premium_auto                        0.0\n",
       "marital_status                              0.0\n",
       "location_code                               0.0\n",
       "income                                      0.0\n",
       "gender                                      0.0\n",
       "employmentstatus                            0.0\n",
       "effective_to_date                           0.0\n",
       "education                                   0.0\n",
       "coverage                                    0.0\n",
       "response                                    0.0\n",
       "customer_lifetime_value                     0.0\n",
       "vehicle_size                                0.0"
      ]
     },
     "execution_count": 11,
     "metadata": {},
     "output_type": "execute_result"
    }
   ],
   "source": [
    "nulls = pd.DataFrame(customer_df.isna().sum()*100/len(customer_df), columns=['percentage_nulls'])\n",
    "nulls.sort_values('percentage_nulls', ascending = False)"
   ]
  },
  {
   "cell_type": "code",
   "execution_count": 12,
   "id": "641276e1-a8ab-4e1e-b86e-0f764bfbe65c",
   "metadata": {},
   "outputs": [
    {
     "name": "stdout",
     "output_type": "stream",
     "text": [
      "KP72427    1\n",
      "UD99395    1\n",
      "QF74806    1\n",
      "BC47264    1\n",
      "MP53505    1\n",
      "          ..\n",
      "DA57177    1\n",
      "GF68713    1\n",
      "ZS15062    1\n",
      "QT26393    1\n",
      "JO64487    1\n",
      "Name: customer, Length: 9134, dtype: int64 \n",
      "\n",
      "California    3150\n",
      "Oregon        2601\n",
      "Arizona       1703\n",
      "Nevada         882\n",
      "Washington     798\n",
      "Name: state, dtype: int64 \n",
      "\n",
      "No     7826\n",
      "Yes    1308\n",
      "Name: response, dtype: int64 \n",
      "\n",
      "Basic       5568\n",
      "Extended    2742\n",
      "Premium      824\n",
      "Name: coverage, dtype: int64 \n",
      "\n",
      "Bachelor                2748\n",
      "College                 2681\n",
      "High School or Below    2622\n",
      "Master                   741\n",
      "Doctor                   342\n",
      "Name: education, dtype: int64 \n",
      "\n",
      "Employed         5698\n",
      "Unemployed       2317\n",
      "Medical Leave     432\n",
      "Disabled          405\n",
      "Retired           282\n",
      "Name: employmentstatus, dtype: int64 \n",
      "\n",
      "F    4658\n",
      "M    4476\n",
      "Name: gender, dtype: int64 \n",
      "\n",
      "Suburban    5779\n",
      "Rural       1773\n",
      "Urban       1582\n",
      "Name: location_code, dtype: int64 \n",
      "\n",
      "Married     5298\n",
      "Single      2467\n",
      "Divorced    1369\n",
      "Name: marital_status, dtype: int64 \n",
      "\n",
      "Personal Auto     6788\n",
      "Corporate Auto    1968\n",
      "Special Auto       378\n",
      "Name: policy_type, dtype: int64 \n",
      "\n",
      "Personal L3     3426\n",
      "Personal L2     2122\n",
      "Personal L1     1240\n",
      "Corporate L3    1014\n",
      "Corporate L2     595\n",
      "Corporate L1     359\n",
      "Special L2       164\n",
      "Special L3       148\n",
      "Special L1        66\n",
      "Name: policy, dtype: int64 \n",
      "\n",
      "Offer1    3752\n",
      "Offer2    2926\n",
      "Offer3    1432\n",
      "Offer4    1024\n",
      "Name: renew_offer_type, dtype: int64 \n",
      "\n",
      "Agent          3477\n",
      "Branch         2567\n",
      "Call Center    1765\n",
      "Web            1325\n",
      "Name: sales_channel, dtype: int64 \n",
      "\n",
      "Four-Door Car    4621\n",
      "Two-Door Car     1886\n",
      "SUV              1796\n",
      "Sports Car        484\n",
      "Luxury SUV        184\n",
      "Luxury Car        163\n",
      "Name: vehicle_class, dtype: int64 \n",
      "\n",
      "Medsize    6424\n",
      "Small      1764\n",
      "Large       946\n",
      "Name: vehicle_size, dtype: int64 \n",
      "\n"
     ]
    }
   ],
   "source": [
    "for col in customer_df.select_dtypes('object'):\n",
    "    print(customer_df[col].value_counts(), '\\n')"
   ]
  },
  {
   "cell_type": "markdown",
   "id": "f7335f4f-c021-4614-88f7-3a9415ced509",
   "metadata": {},
   "source": [
    "--> no columns with empy spaces instead of NaN!"
   ]
  },
  {
   "cell_type": "markdown",
   "id": "b00cdcc1",
   "metadata": {},
   "source": [
    "### Define a function that differentiates between continuous and discrete variables. Hint: A number of unique values might be useful. Store continuous data into a continuous variable and do the same for discrete and categorical."
   ]
  },
  {
   "cell_type": "code",
   "execution_count": 13,
   "id": "32089422-abf3-4c84-a0d3-7057d7a7f1fb",
   "metadata": {},
   "outputs": [
    {
     "name": "stdout",
     "output_type": "stream",
     "text": [
      "2248.449633     6\n",
      "10972.067780    6\n",
      "5619.689084     6\n",
      "11981.984810    6\n",
      "2530.705137     6\n",
      "               ..\n",
      "12349.702320    1\n",
      "4046.936065     1\n",
      "2121.313061     1\n",
      "7232.609391     1\n",
      "3297.904615     1\n",
      "Name: customer_lifetime_value, Length: 8041, dtype: int64\n",
      "0        2317\n",
      "95697      12\n",
      "26876       7\n",
      "61108       7\n",
      "25965       7\n",
      "         ... \n",
      "36259       1\n",
      "69011       1\n",
      "38638       1\n",
      "30092       1\n",
      "51199       1\n",
      "Name: income, Length: 5694, dtype: int64\n",
      "65     348\n",
      "66     307\n",
      "71     304\n",
      "73     302\n",
      "63     289\n",
      "      ... \n",
      "147      1\n",
      "290      1\n",
      "273      1\n",
      "298      1\n",
      "205      1\n",
      "Name: monthly_premium_auto, Length: 202, dtype: int64\n",
      "3     381\n",
      "6     364\n",
      "1     345\n",
      "4     335\n",
      "7     333\n",
      "2     329\n",
      "0     314\n",
      "5     313\n",
      "10    306\n",
      "11    297\n",
      "16    295\n",
      "15    286\n",
      "13    285\n",
      "8     279\n",
      "12    273\n",
      "14    268\n",
      "17    263\n",
      "9     250\n",
      "19    246\n",
      "23    239\n",
      "25    236\n",
      "21    233\n",
      "20    231\n",
      "18    229\n",
      "22    218\n",
      "24    211\n",
      "29    206\n",
      "28    201\n",
      "31    190\n",
      "26    186\n",
      "30    182\n",
      "27    182\n",
      "33    179\n",
      "34    169\n",
      "35    142\n",
      "32    138\n",
      "Name: months_since_last_claim, dtype: int64\n",
      "59    142\n",
      "61    128\n",
      "50    125\n",
      "44    115\n",
      "10    114\n",
      "     ... \n",
      "16     70\n",
      "96     67\n",
      "82     56\n",
      "98     54\n",
      "97     52\n",
      "Name: months_since_policy_inception, Length: 100, dtype: int64\n",
      "0    7252\n",
      "1    1011\n",
      "2     374\n",
      "3     292\n",
      "4     149\n",
      "5      56\n",
      "Name: number_of_open_complaints, dtype: int64\n",
      "1    3251\n",
      "2    2294\n",
      "3    1168\n",
      "7     433\n",
      "9     416\n",
      "4     409\n",
      "5     407\n",
      "8     384\n",
      "6     372\n",
      "Name: number_of_policies, dtype: int64\n",
      "316.800000     116\n",
      "292.800000     110\n",
      "312.000000     108\n",
      "350.400000     105\n",
      "331.200000     102\n",
      "              ... \n",
      "480.073548       1\n",
      "232.674417       1\n",
      "424.711758       1\n",
      "1272.546918      1\n",
      "11.549207        1\n",
      "Name: total_claim_amount, Length: 5106, dtype: int64\n"
     ]
    }
   ],
   "source": [
    "for col in customer_df.select_dtypes(np.number):\n",
    "    print(customer_df[col].value_counts())"
   ]
  },
  {
   "cell_type": "code",
   "execution_count": 14,
   "id": "e582ee8d-3f0a-44f0-8dda-bd0b8c6e0f92",
   "metadata": {},
   "outputs": [
    {
     "data": {
      "text/plain": [
       "customer_lifetime_value          8041\n",
       "income                           5694\n",
       "monthly_premium_auto              202\n",
       "months_since_last_claim            36\n",
       "months_since_policy_inception     100\n",
       "number_of_open_complaints           6\n",
       "number_of_policies                  9\n",
       "total_claim_amount               5106\n",
       "dtype: int64"
      ]
     },
     "execution_count": 14,
     "metadata": {},
     "output_type": "execute_result"
    }
   ],
   "source": [
    "customer_df.select_dtypes(np.number).nunique()"
   ]
  },
  {
   "cell_type": "code",
   "execution_count": 15,
   "id": "9fe05b43-18c6-4ab2-81c6-a2e61a33cf88",
   "metadata": {},
   "outputs": [
    {
     "data": {
      "text/html": [
       "<style>\n",
       "    table {\n",
       "        display: inline-block\n",
       "    }\n",
       "</style>\n"
      ],
      "text/plain": [
       "<IPython.core.display.HTML object>"
      ]
     },
     "metadata": {},
     "output_type": "display_data"
    }
   ],
   "source": [
    "%%html\n",
    "<style>\n",
    "    table {\n",
    "        display: inline-block\n",
    "    }\n",
    "</style>"
   ]
  },
  {
   "cell_type": "markdown",
   "id": "472ee9b6-8701-4fa2-a8a0-11415a2274f5",
   "metadata": {},
   "source": [
    "**My conclusion after checking value counts and uniques and using general knowledge:**\n",
    "\n",
    "\n",
    "|continuous|discrecte|\n",
    "|:---|:---|\n",
    "|total_claim_amount|number_of_policies|\n",
    "|income|number_of_open_complaints|\n",
    "|customer_lifetime_value|months_since_policy_inception|\n",
    "||months_since_last_claim|\n",
    "||monthly_premium_auto|\n",
    "||\n",
    "\n",
    "--> how to get this result with a function? <br>\n",
    "--> Google always helps :D "
   ]
  },
  {
   "cell_type": "code",
   "execution_count": 16,
   "id": "b157f9ba-4157-42e1-8d88-190fa423a817",
   "metadata": {},
   "outputs": [],
   "source": [
    "def funct_uniques(df, col):\n",
    "    \n",
    "    # variable to hold count of unique values\n",
    "    cnt = 0\n",
    "  \n",
    "    # list to hold unique values\n",
    "    uniques = []\n",
    "\n",
    "    for i in range(0, len(df)):\n",
    "        \n",
    "        if df[col][i] not in uniques:\n",
    "            \n",
    "            uniques.append(df[col][i])\n",
    "            cnt += 1\n",
    "    \n",
    "    if cnt <= 300:\n",
    "        print('Name of column: ', col)\n",
    "        print('Number of unique values: ', cnt)\n",
    "        print('List of unique values: ', uniques, '\\n')\n",
    "    else:\n",
    "        print('Name of column: ', col)\n",
    "        print('Number of unique values: ', cnt)\n",
    "        print(col, 'is probably CONTINUOUS!', '\\n')"
   ]
  },
  {
   "cell_type": "code",
   "execution_count": 17,
   "id": "ece30c19-393a-4041-8b57-2c43feb60e56",
   "metadata": {},
   "outputs": [
    {
     "name": "stdout",
     "output_type": "stream",
     "text": [
      "Name of column:  number_of_policies\n",
      "Number of unique values:  9\n",
      "List of unique values:  [1, 8, 2, 7, 9, 4, 3, 6, 5] \n",
      "\n"
     ]
    }
   ],
   "source": [
    "funct_uniques(customer_df, 'number_of_policies')"
   ]
  },
  {
   "cell_type": "code",
   "execution_count": 18,
   "id": "02ce7a3d-cb21-48e0-8ee3-6af9eac032b8",
   "metadata": {},
   "outputs": [
    {
     "name": "stdout",
     "output_type": "stream",
     "text": [
      "Name of column:  customer_lifetime_value\n",
      "Number of unique values:  8041\n",
      "customer_lifetime_value is probably CONTINUOUS! \n",
      "\n",
      "Name of column:  income\n",
      "Number of unique values:  5694\n",
      "income is probably CONTINUOUS! \n",
      "\n",
      "Name of column:  monthly_premium_auto\n",
      "Number of unique values:  202\n",
      "List of unique values:  [69, 94, 108, 106, 73, 67, 101, 71, 93, 110, 70, 64, 72, 74, 79, 61, 111, 139, 80, 63, 237, 65, 62, 117, 91, 90, 66, 99, 103, 172, 92, 104, 113, 124, 105, 100, 112, 97, 95, 102, 186, 77, 96, 76, 119, 88, 109, 107, 130, 85, 98, 133, 86, 78, 83, 68, 192, 118, 89, 140, 127, 168, 126, 82, 115, 217, 114, 138, 81, 255, 150, 123, 116, 190, 159, 84, 152, 136, 245, 135, 128, 225, 132, 153, 121, 154, 161, 156, 171, 87, 244, 183, 176, 230, 129, 177, 196, 131, 276, 253, 137, 180, 203, 147, 165, 198, 125, 193, 271, 188, 142, 206, 182, 189, 160, 295, 210, 134, 239, 256, 173, 285, 148, 197, 199, 214, 175, 167, 194, 164, 181, 222, 215, 283, 169, 248, 223, 273, 151, 213, 145, 185, 287, 297, 201, 149, 146, 235, 268, 211, 187, 141, 242, 170, 122, 143, 155, 166, 212, 249, 240, 191, 195, 216, 144, 179, 232, 158, 207, 184, 238, 229, 220, 178, 204, 281, 234, 218, 275, 209, 261, 157, 205, 228, 284, 231, 208, 296, 202, 162, 274, 219, 247, 290, 226, 163, 298, 266, 254, 252, 174, 286] \n",
      "\n",
      "Name of column:  months_since_last_claim\n",
      "Number of unique values:  36\n",
      "List of unique values:  [32, 13, 18, 12, 14, 0, 17, 23, 27, 9, 21, 11, 31, 8, 4, 30, 22, 15, 33, 1, 19, 28, 10, 7, 3, 5, 20, 24, 29, 34, 6, 35, 2, 16, 26, 25] \n",
      "\n",
      "Name of column:  months_since_policy_inception\n",
      "Number of unique values:  100\n",
      "List of unique values:  [5, 42, 38, 65, 44, 94, 13, 68, 3, 7, 87, 82, 25, 10, 50, 59, 1, 21, 49, 91, 47, 64, 54, 6, 14, 56, 17, 40, 62, 86, 79, 15, 32, 28, 16, 4, 57, 77, 95, 26, 53, 12, 98, 36, 71, 60, 20, 0, 27, 48, 33, 83, 30, 69, 90, 81, 84, 88, 18, 11, 85, 93, 34, 89, 2, 70, 37, 43, 8, 35, 99, 55, 75, 51, 92, 29, 63, 61, 46, 41, 31, 45, 67, 22, 23, 9, 72, 96, 58, 66, 73, 39, 19, 97, 52, 76, 78, 80, 74, 24] \n",
      "\n",
      "Name of column:  number_of_open_complaints\n",
      "Number of unique values:  6\n",
      "List of unique values:  [0, 2, 1, 3, 5, 4] \n",
      "\n",
      "Name of column:  number_of_policies\n",
      "Number of unique values:  9\n",
      "List of unique values:  [1, 8, 2, 7, 9, 4, 3, 6, 5] \n",
      "\n",
      "Name of column:  total_claim_amount\n",
      "Number of unique values:  5106\n",
      "total_claim_amount is probably CONTINUOUS! \n",
      "\n"
     ]
    }
   ],
   "source": [
    "for col in customer_df.select_dtypes(np.number).columns:\n",
    "    funct_uniques(customer_df, col)"
   ]
  },
  {
   "cell_type": "code",
   "execution_count": 19,
   "id": "e3af11c5-e37c-4620-a134-485e4ecb4b39",
   "metadata": {},
   "outputs": [],
   "source": [
    "def funct_uniques_df(df, th):\n",
    "    \n",
    "    lst_discrete = []\n",
    "    lst_continuous = []\n",
    "        \n",
    "    for col in df.columns:\n",
    "\n",
    "        if df[col].nunique() <= th:\n",
    "            lst_discrete.append(col)\n",
    "        else:\n",
    "            lst_continuous.append(col)\n",
    "        \n",
    "    return lst_discrete, lst_continuous"
   ]
  },
  {
   "cell_type": "code",
   "execution_count": 20,
   "id": "4b06dc4d-f22e-41d4-afbd-b22d85fadb6c",
   "metadata": {},
   "outputs": [
    {
     "data": {
      "text/plain": [
       "(['monthly_premium_auto',\n",
       "  'months_since_last_claim',\n",
       "  'months_since_policy_inception',\n",
       "  'number_of_open_complaints',\n",
       "  'number_of_policies'],\n",
       " ['customer_lifetime_value', 'income', 'total_claim_amount'])"
      ]
     },
     "execution_count": 20,
     "metadata": {},
     "output_type": "execute_result"
    }
   ],
   "source": [
    "num = customer_df.select_dtypes(np.number)\n",
    "funct_uniques_df(num, 300)"
   ]
  },
  {
   "cell_type": "markdown",
   "id": "3f193f28",
   "metadata": {},
   "source": [
    "### For the categorical data, check if there is some kind of text in a variable so we would need to clean it. Hint: Use the same method you used in step 7. Depending on the implementation, decide what to do with the variables you get."
   ]
  },
  {
   "cell_type": "code",
   "execution_count": 21,
   "id": "16578fb4",
   "metadata": {},
   "outputs": [
    {
     "name": "stdout",
     "output_type": "stream",
     "text": [
      "Name of column:  customer\n",
      "Number of unique values:  9134\n",
      "customer is probably CONTINUOUS! \n",
      "\n",
      "Name of column:  state\n",
      "Number of unique values:  5\n",
      "List of unique values:  ['Washington', 'Arizona', 'Nevada', 'California', 'Oregon'] \n",
      "\n",
      "Name of column:  response\n",
      "Number of unique values:  2\n",
      "List of unique values:  ['No', 'Yes'] \n",
      "\n",
      "Name of column:  coverage\n",
      "Number of unique values:  3\n",
      "List of unique values:  ['Basic', 'Extended', 'Premium'] \n",
      "\n",
      "Name of column:  education\n",
      "Number of unique values:  5\n",
      "List of unique values:  ['Bachelor', 'College', 'Master', 'High School or Below', 'Doctor'] \n",
      "\n",
      "Name of column:  employmentstatus\n",
      "Number of unique values:  5\n",
      "List of unique values:  ['Employed', 'Unemployed', 'Medical Leave', 'Disabled', 'Retired'] \n",
      "\n",
      "Name of column:  gender\n",
      "Number of unique values:  2\n",
      "List of unique values:  ['F', 'M'] \n",
      "\n",
      "Name of column:  location_code\n",
      "Number of unique values:  3\n",
      "List of unique values:  ['Suburban', 'Rural', 'Urban'] \n",
      "\n",
      "Name of column:  marital_status\n",
      "Number of unique values:  3\n",
      "List of unique values:  ['Married', 'Single', 'Divorced'] \n",
      "\n",
      "Name of column:  policy_type\n",
      "Number of unique values:  3\n",
      "List of unique values:  ['Corporate Auto', 'Personal Auto', 'Special Auto'] \n",
      "\n",
      "Name of column:  policy\n",
      "Number of unique values:  9\n",
      "List of unique values:  ['Corporate L3', 'Personal L3', 'Corporate L2', 'Personal L1', 'Special L2', 'Corporate L1', 'Personal L2', 'Special L1', 'Special L3'] \n",
      "\n",
      "Name of column:  renew_offer_type\n",
      "Number of unique values:  4\n",
      "List of unique values:  ['Offer1', 'Offer3', 'Offer2', 'Offer4'] \n",
      "\n",
      "Name of column:  sales_channel\n",
      "Number of unique values:  4\n",
      "List of unique values:  ['Agent', 'Call Center', 'Web', 'Branch'] \n",
      "\n",
      "Name of column:  vehicle_class\n",
      "Number of unique values:  6\n",
      "List of unique values:  ['Two-Door Car', 'Four-Door Car', 'SUV', 'Luxury SUV', 'Sports Car', 'Luxury Car'] \n",
      "\n",
      "Name of column:  vehicle_size\n",
      "Number of unique values:  3\n",
      "List of unique values:  ['Medsize', 'Small', 'Large'] \n",
      "\n"
     ]
    }
   ],
   "source": [
    "for col in customer_df.select_dtypes('object').columns:\n",
    "    funct_uniques(customer_df, col)"
   ]
  },
  {
   "cell_type": "code",
   "execution_count": 22,
   "id": "daf4842b-2957-4289-bec6-88448ad4a8a0",
   "metadata": {},
   "outputs": [
    {
     "data": {
      "text/plain": [
       "(['state',\n",
       "  'response',\n",
       "  'coverage',\n",
       "  'education',\n",
       "  'employmentstatus',\n",
       "  'gender',\n",
       "  'location_code',\n",
       "  'marital_status',\n",
       "  'policy_type',\n",
       "  'policy',\n",
       "  'renew_offer_type',\n",
       "  'sales_channel',\n",
       "  'vehicle_class',\n",
       "  'vehicle_size'],\n",
       " ['customer'])"
      ]
     },
     "execution_count": 22,
     "metadata": {},
     "output_type": "execute_result"
    }
   ],
   "source": [
    "#cat = customer_df.select_dtypes('object')\n",
    "funct_uniques_df(customer_df.select_dtypes('object'), 20)"
   ]
  },
  {
   "cell_type": "markdown",
   "id": "b5e88313",
   "metadata": {},
   "source": [
    "### Get categorical features."
   ]
  },
  {
   "cell_type": "code",
   "execution_count": 23,
   "id": "c6968c8e",
   "metadata": {},
   "outputs": [
    {
     "name": "stdout",
     "output_type": "stream",
     "text": [
      "customer : ['BU79786' 'QZ44356' 'AI49188' ... 'TD14365' 'UP19263' 'Y167826']\n",
      "state : ['Washington' 'Arizona' 'Nevada' 'California' 'Oregon']\n",
      "response : ['No' 'Yes']\n",
      "coverage : ['Basic' 'Extended' 'Premium']\n",
      "education : ['Bachelor' 'College' 'Master' 'High School or Below' 'Doctor']\n",
      "employmentstatus : ['Employed' 'Unemployed' 'Medical Leave' 'Disabled' 'Retired']\n",
      "gender : ['F' 'M']\n",
      "location_code : ['Suburban' 'Rural' 'Urban']\n",
      "marital_status : ['Married' 'Single' 'Divorced']\n",
      "policy_type : ['Corporate Auto' 'Personal Auto' 'Special Auto']\n",
      "policy : ['Corporate L3' 'Personal L3' 'Corporate L2' 'Personal L1' 'Special L2'\n",
      " 'Corporate L1' 'Personal L2' 'Special L1' 'Special L3']\n",
      "renew_offer_type : ['Offer1' 'Offer3' 'Offer2' 'Offer4']\n",
      "sales_channel : ['Agent' 'Call Center' 'Web' 'Branch']\n",
      "vehicle_class : ['Two-Door Car' 'Four-Door Car' 'SUV' 'Luxury SUV' 'Sports Car'\n",
      " 'Luxury Car']\n",
      "vehicle_size : ['Medsize' 'Small' 'Large']\n"
     ]
    }
   ],
   "source": [
    "for col in customer_df.select_dtypes('object'):\n",
    "    print(col, ':', customer_df[col].unique())"
   ]
  },
  {
   "cell_type": "markdown",
   "id": "dfe80fc9",
   "metadata": {},
   "source": [
    "### What should we do with the customer_id column?"
   ]
  },
  {
   "cell_type": "markdown",
   "id": "1c514cc1-9fde-4873-8d69-bcf2fa212056",
   "metadata": {},
   "source": [
    "Different possibilities:\n",
    "- setting \"customer\" as index (as it contains only unique values)<br>\n",
    "   -->  _customer_df = customer_df.set_index('customer')_\n",
    "- removing column from dataframe before doing further analysis\n",
    "- extracting information from column (e.g. letters in one column and numbers = customer_id in other column)<br>\n",
    "    --> this would only make sense if we know that the letters actually signify something and it would make sense to group them"
   ]
  },
  {
   "cell_type": "code",
   "execution_count": null,
   "id": "408f435e-27e9-41b9-98b3-46db2ce93311",
   "metadata": {},
   "outputs": [],
   "source": []
  },
  {
   "cell_type": "markdown",
   "id": "614290a0-bf3f-41d5-a6c7-5835a8c9ad2a",
   "metadata": {},
   "source": [
    "## Lab | Feature extraction"
   ]
  },
  {
   "cell_type": "markdown",
   "id": "381834c2-ee3c-4873-9c0e-8402ae30942d",
   "metadata": {},
   "source": [
    "For this lab, we will be using the same dataset we used in the previous labs. We recommend using the same notebook since you will be reusing the same variables you previous created and used in labs."
   ]
  },
  {
   "cell_type": "markdown",
   "id": "accbb4b3-2a09-4c43-a70b-2e346eeda7dd",
   "metadata": {
    "tags": []
   },
   "source": [
    "### Open the categoricals variable we created before."
   ]
  },
  {
   "cell_type": "code",
   "execution_count": 24,
   "id": "a116f1a0-f1d4-4eb5-88d0-76131f7cc66a",
   "metadata": {},
   "outputs": [
    {
     "data": {
      "text/html": [
       "<div>\n",
       "<style scoped>\n",
       "    .dataframe tbody tr th:only-of-type {\n",
       "        vertical-align: middle;\n",
       "    }\n",
       "\n",
       "    .dataframe tbody tr th {\n",
       "        vertical-align: top;\n",
       "    }\n",
       "\n",
       "    .dataframe thead th {\n",
       "        text-align: right;\n",
       "    }\n",
       "</style>\n",
       "<table border=\"1\" class=\"dataframe\">\n",
       "  <thead>\n",
       "    <tr style=\"text-align: right;\">\n",
       "      <th></th>\n",
       "      <th>customer</th>\n",
       "      <th>state</th>\n",
       "      <th>response</th>\n",
       "      <th>coverage</th>\n",
       "      <th>education</th>\n",
       "      <th>employmentstatus</th>\n",
       "      <th>gender</th>\n",
       "      <th>location_code</th>\n",
       "      <th>marital_status</th>\n",
       "      <th>policy_type</th>\n",
       "      <th>policy</th>\n",
       "      <th>renew_offer_type</th>\n",
       "      <th>sales_channel</th>\n",
       "      <th>vehicle_class</th>\n",
       "      <th>vehicle_size</th>\n",
       "    </tr>\n",
       "  </thead>\n",
       "  <tbody>\n",
       "    <tr>\n",
       "      <th>0</th>\n",
       "      <td>BU79786</td>\n",
       "      <td>Washington</td>\n",
       "      <td>No</td>\n",
       "      <td>Basic</td>\n",
       "      <td>Bachelor</td>\n",
       "      <td>Employed</td>\n",
       "      <td>F</td>\n",
       "      <td>Suburban</td>\n",
       "      <td>Married</td>\n",
       "      <td>Corporate Auto</td>\n",
       "      <td>Corporate L3</td>\n",
       "      <td>Offer1</td>\n",
       "      <td>Agent</td>\n",
       "      <td>Two-Door Car</td>\n",
       "      <td>Medsize</td>\n",
       "    </tr>\n",
       "    <tr>\n",
       "      <th>1</th>\n",
       "      <td>QZ44356</td>\n",
       "      <td>Arizona</td>\n",
       "      <td>No</td>\n",
       "      <td>Extended</td>\n",
       "      <td>Bachelor</td>\n",
       "      <td>Unemployed</td>\n",
       "      <td>F</td>\n",
       "      <td>Suburban</td>\n",
       "      <td>Single</td>\n",
       "      <td>Personal Auto</td>\n",
       "      <td>Personal L3</td>\n",
       "      <td>Offer3</td>\n",
       "      <td>Agent</td>\n",
       "      <td>Four-Door Car</td>\n",
       "      <td>Medsize</td>\n",
       "    </tr>\n",
       "    <tr>\n",
       "      <th>2</th>\n",
       "      <td>AI49188</td>\n",
       "      <td>Nevada</td>\n",
       "      <td>No</td>\n",
       "      <td>Premium</td>\n",
       "      <td>Bachelor</td>\n",
       "      <td>Employed</td>\n",
       "      <td>F</td>\n",
       "      <td>Suburban</td>\n",
       "      <td>Married</td>\n",
       "      <td>Personal Auto</td>\n",
       "      <td>Personal L3</td>\n",
       "      <td>Offer1</td>\n",
       "      <td>Agent</td>\n",
       "      <td>Two-Door Car</td>\n",
       "      <td>Medsize</td>\n",
       "    </tr>\n",
       "    <tr>\n",
       "      <th>3</th>\n",
       "      <td>WW63253</td>\n",
       "      <td>California</td>\n",
       "      <td>No</td>\n",
       "      <td>Basic</td>\n",
       "      <td>Bachelor</td>\n",
       "      <td>Unemployed</td>\n",
       "      <td>M</td>\n",
       "      <td>Suburban</td>\n",
       "      <td>Married</td>\n",
       "      <td>Corporate Auto</td>\n",
       "      <td>Corporate L2</td>\n",
       "      <td>Offer1</td>\n",
       "      <td>Call Center</td>\n",
       "      <td>SUV</td>\n",
       "      <td>Medsize</td>\n",
       "    </tr>\n",
       "    <tr>\n",
       "      <th>4</th>\n",
       "      <td>HB64268</td>\n",
       "      <td>Washington</td>\n",
       "      <td>No</td>\n",
       "      <td>Basic</td>\n",
       "      <td>Bachelor</td>\n",
       "      <td>Employed</td>\n",
       "      <td>M</td>\n",
       "      <td>Rural</td>\n",
       "      <td>Single</td>\n",
       "      <td>Personal Auto</td>\n",
       "      <td>Personal L1</td>\n",
       "      <td>Offer1</td>\n",
       "      <td>Agent</td>\n",
       "      <td>Four-Door Car</td>\n",
       "      <td>Medsize</td>\n",
       "    </tr>\n",
       "  </tbody>\n",
       "</table>\n",
       "</div>"
      ],
      "text/plain": [
       "  customer       state response  coverage education employmentstatus gender  \\\n",
       "0  BU79786  Washington       No     Basic  Bachelor         Employed      F   \n",
       "1  QZ44356     Arizona       No  Extended  Bachelor       Unemployed      F   \n",
       "2  AI49188      Nevada       No   Premium  Bachelor         Employed      F   \n",
       "3  WW63253  California       No     Basic  Bachelor       Unemployed      M   \n",
       "4  HB64268  Washington       No     Basic  Bachelor         Employed      M   \n",
       "\n",
       "  location_code marital_status     policy_type        policy renew_offer_type  \\\n",
       "0      Suburban        Married  Corporate Auto  Corporate L3           Offer1   \n",
       "1      Suburban         Single   Personal Auto   Personal L3           Offer3   \n",
       "2      Suburban        Married   Personal Auto   Personal L3           Offer1   \n",
       "3      Suburban        Married  Corporate Auto  Corporate L2           Offer1   \n",
       "4         Rural         Single   Personal Auto   Personal L1           Offer1   \n",
       "\n",
       "  sales_channel  vehicle_class vehicle_size  \n",
       "0         Agent   Two-Door Car      Medsize  \n",
       "1         Agent  Four-Door Car      Medsize  \n",
       "2         Agent   Two-Door Car      Medsize  \n",
       "3   Call Center            SUV      Medsize  \n",
       "4         Agent  Four-Door Car      Medsize  "
      ]
     },
     "execution_count": 24,
     "metadata": {},
     "output_type": "execute_result"
    }
   ],
   "source": [
    "categoricals = customer_df.select_dtypes(np.object)\n",
    "categoricals.head()"
   ]
  },
  {
   "cell_type": "markdown",
   "id": "60314412-4365-45fc-bc05-27747dc48ec5",
   "metadata": {},
   "source": [
    "### Plot all the categorical variables with the proper plot. What can you see?"
   ]
  },
  {
   "cell_type": "code",
   "execution_count": 25,
   "id": "d9be1f87-b7b8-4095-95f8-63b797f129ca",
   "metadata": {},
   "outputs": [
    {
     "data": {
      "text/plain": [
       "Index(['customer', 'state', 'response', 'coverage', 'education',\n",
       "       'employmentstatus', 'gender', 'location_code', 'marital_status',\n",
       "       'policy_type', 'policy', 'renew_offer_type', 'sales_channel',\n",
       "       'vehicle_class', 'vehicle_size'],\n",
       "      dtype='object')"
      ]
     },
     "execution_count": 25,
     "metadata": {},
     "output_type": "execute_result"
    }
   ],
   "source": [
    "categoricals.columns"
   ]
  },
  {
   "cell_type": "code",
   "execution_count": 26,
   "id": "bfa385e4-b44c-4699-be15-1f4bb31799f3",
   "metadata": {},
   "outputs": [],
   "source": [
    "cat_columns = ['state', 'response', 'coverage', 'education',\n",
    "       'employmentstatus', 'gender', 'location_code', 'marital_status',\n",
    "       'policy_type', 'policy', 'renew_offer_type', 'sales_channel',\n",
    "       'vehicle_class', 'vehicle_size']"
   ]
  },
  {
   "cell_type": "code",
   "execution_count": 27,
   "id": "17532bcc-8ba0-44b1-bd0c-408530f64540",
   "metadata": {},
   "outputs": [
    {
     "data": {
      "image/png": "[encoded data removed]",
      "text/plain": [
       "<Figure size 432x288 with 1 Axes>"
      ]
     },
     "metadata": {
      "needs_background": "light"
     },
     "output_type": "display_data"
    },
    {
     "data": {
      "image/png": "[encoded data removed]",
      "text/plain": [
       "<Figure size 432x288 with 1 Axes>"
      ]
     },
     "metadata": {
      "needs_background": "light"
     },
     "output_type": "display_data"
    },
    {
     "data": {
      "image/png": "[encoded data removed]",
      "text/plain": [
       "<Figure size 432x288 with 1 Axes>"
      ]
     },
     "metadata": {
      "needs_background": "light"
     },
     "output_type": "display_data"
    },
    {
     "data": {
      "image/png": "[encoded data removed]",
      "text/plain": [
       "<Figure size 432x288 with 1 Axes>"
      ]
     },
     "metadata": {
      "needs_background": "light"
     },
     "output_type": "display_data"
    },
    {
     "data": {
      "image/png": "[encoded data removed]",
      "text/plain": [
       "<Figure size 432x288 with 1 Axes>"
      ]
     },
     "metadata": {
      "needs_background": "light"
     },
     "output_type": "display_data"
    },
    {
     "data": {
      "image/png": "[encoded data removed]",
      "text/plain": [
       "<Figure size 432x288 with 1 Axes>"
      ]
     },
     "metadata": {
      "needs_background": "light"
     },
     "output_type": "display_data"
    },
    {
     "data": {
      "image/png": "[encoded data removed]",
      "text/plain": [
       "<Figure size 432x288 with 1 Axes>"
      ]
     },
     "metadata": {
      "needs_background": "light"
     },
     "output_type": "display_data"
    },
    {
     "data": {
      "image/png": "[encoded data removed]",
      "text/plain": [
       "<Figure size 432x288 with 1 Axes>"
      ]
     },
     "metadata": {
      "needs_background": "light"
     },
     "output_type": "display_data"
    },
    {
     "data": {
      "image/png": "[encoded data removed]",
      "text/plain": [
       "<Figure size 432x288 with 1 Axes>"
      ]
     },
     "metadata": {
      "needs_background": "light"
     },
     "output_type": "display_data"
    },
    {
     "data": {
      "image/png": "[encoded data removed]",
      "text/plain": [
       "<Figure size 432x288 with 1 Axes>"
      ]
     },
     "metadata": {
      "needs_background": "light"
     },
     "output_type": "display_data"
    },
    {
     "data": {
      "image/png": "[encoded data removed]",
      "text/plain": [
       "<Figure size 432x288 with 1 Axes>"
      ]
     },
     "metadata": {
      "needs_background": "light"
     },
     "output_type": "display_data"
    },
    {
     "data": {
      "image/png": "[encoded data removed]",
      "text/plain": [
       "<Figure size 432x288 with 1 Axes>"
      ]
     },
     "metadata": {
      "needs_background": "light"
     },
     "output_type": "display_data"
    },
    {
     "data": {
      "image/png": "[encoded data removed]",
      "text/plain": [
       "<Figure size 432x288 with 1 Axes>"
      ]
     },
     "metadata": {
      "needs_background": "light"
     },
     "output_type": "display_data"
    },
    {
     "data": {
      "image/png": "[encoded data removed]",
      "text/plain": [
       "<Figure size 432x288 with 1 Axes>"
      ]
     },
     "metadata": {
      "needs_background": "light"
     },
     "output_type": "display_data"
    }
   ],
   "source": [
    "for col in cat_columns:\n",
    "    sns.countplot(categoricals[col])\n",
    "    plt.show()"
   ]
  },
  {
   "cell_type": "markdown",
   "id": "3cc079e5-fb22-43a3-80f8-f1d66a0fa899",
   "metadata": {},
   "source": [
    "### There might be some columns that seem to be redundant, check their values to be sure. What should we do with them?"
   ]
  },
  {
   "cell_type": "markdown",
   "id": "d6a70da4-4878-4351-b893-0ba8c6edf01c",
   "metadata": {},
   "source": [
    "- **gender** is almost equal, this might not be necessary information for future analysis\n",
    "- **response** is very imbalanced\n",
    "- **policy** and **policy_type** seem to match (policy type gives more detailed information though)"
   ]
  },
  {
   "cell_type": "code",
   "execution_count": 28,
   "id": "89d2a6e0-d310-4ccc-98a4-e6091199e429",
   "metadata": {},
   "outputs": [
    {
     "data": {
      "text/plain": [
       "F    4658\n",
       "M    4476\n",
       "Name: gender, dtype: int64"
      ]
     },
     "execution_count": 28,
     "metadata": {},
     "output_type": "execute_result"
    }
   ],
   "source": [
    "categoricals['gender'].value_counts()"
   ]
  },
  {
   "cell_type": "code",
   "execution_count": 29,
   "id": "d433e138-2740-48db-85c7-d6684ec87b37",
   "metadata": {},
   "outputs": [
    {
     "data": {
      "text/plain": [
       "No     7826\n",
       "Yes    1308\n",
       "Name: response, dtype: int64"
      ]
     },
     "execution_count": 29,
     "metadata": {},
     "output_type": "execute_result"
    }
   ],
   "source": [
    "categoricals['response'].value_counts()"
   ]
  },
  {
   "cell_type": "markdown",
   "id": "e0a53986-52fe-4937-a261-02f460a4f1c8",
   "metadata": {},
   "source": [
    "I am not sure if it would make sense to remove the columns?"
   ]
  },
  {
   "cell_type": "code",
   "execution_count": 30,
   "id": "36519973-72f6-4f14-bcab-a407d0e5665b",
   "metadata": {},
   "outputs": [
    {
     "data": {
      "text/plain": [
       "Personal L3     3426\n",
       "Personal L2     2122\n",
       "Personal L1     1240\n",
       "Corporate L3    1014\n",
       "Corporate L2     595\n",
       "Corporate L1     359\n",
       "Special L2       164\n",
       "Special L3       148\n",
       "Special L1        66\n",
       "Name: policy, dtype: int64"
      ]
     },
     "execution_count": 30,
     "metadata": {},
     "output_type": "execute_result"
    }
   ],
   "source": [
    "categoricals['policy'].value_counts()"
   ]
  },
  {
   "cell_type": "code",
   "execution_count": 31,
   "id": "58ee6098-058e-4003-8df8-84bb8494aeda",
   "metadata": {},
   "outputs": [
    {
     "data": {
      "text/plain": [
       "Personal Auto     6788\n",
       "Corporate Auto    1968\n",
       "Special Auto       378\n",
       "Name: policy_type, dtype: int64"
      ]
     },
     "execution_count": 31,
     "metadata": {},
     "output_type": "execute_result"
    }
   ],
   "source": [
    "categoricals['policy_type'].value_counts()"
   ]
  },
  {
   "cell_type": "markdown",
   "id": "511ff002-667b-40be-9487-e8b4ecd35c79",
   "metadata": {},
   "source": [
    "- value counts match: Personal L3 + Personal L2 + Personal L1 = Personal Auto, etc\n",
    "- column **policy_type** could be dropped"
   ]
  },
  {
   "cell_type": "code",
   "execution_count": 32,
   "id": "111edb99-a2d3-47f3-8ff3-603820b70da3",
   "metadata": {},
   "outputs": [
    {
     "data": {
      "text/html": [
       "<div>\n",
       "<style scoped>\n",
       "    .dataframe tbody tr th:only-of-type {\n",
       "        vertical-align: middle;\n",
       "    }\n",
       "\n",
       "    .dataframe tbody tr th {\n",
       "        vertical-align: top;\n",
       "    }\n",
       "\n",
       "    .dataframe thead th {\n",
       "        text-align: right;\n",
       "    }\n",
       "</style>\n",
       "<table border=\"1\" class=\"dataframe\">\n",
       "  <thead>\n",
       "    <tr style=\"text-align: right;\">\n",
       "      <th></th>\n",
       "      <th>customer</th>\n",
       "      <th>state</th>\n",
       "      <th>response</th>\n",
       "      <th>coverage</th>\n",
       "      <th>education</th>\n",
       "      <th>employmentstatus</th>\n",
       "      <th>gender</th>\n",
       "      <th>location_code</th>\n",
       "      <th>marital_status</th>\n",
       "      <th>policy</th>\n",
       "      <th>renew_offer_type</th>\n",
       "      <th>sales_channel</th>\n",
       "      <th>vehicle_class</th>\n",
       "      <th>vehicle_size</th>\n",
       "    </tr>\n",
       "  </thead>\n",
       "  <tbody>\n",
       "    <tr>\n",
       "      <th>0</th>\n",
       "      <td>BU79786</td>\n",
       "      <td>Washington</td>\n",
       "      <td>No</td>\n",
       "      <td>Basic</td>\n",
       "      <td>Bachelor</td>\n",
       "      <td>Employed</td>\n",
       "      <td>F</td>\n",
       "      <td>Suburban</td>\n",
       "      <td>Married</td>\n",
       "      <td>Corporate L3</td>\n",
       "      <td>Offer1</td>\n",
       "      <td>Agent</td>\n",
       "      <td>Two-Door Car</td>\n",
       "      <td>Medsize</td>\n",
       "    </tr>\n",
       "    <tr>\n",
       "      <th>1</th>\n",
       "      <td>QZ44356</td>\n",
       "      <td>Arizona</td>\n",
       "      <td>No</td>\n",
       "      <td>Extended</td>\n",
       "      <td>Bachelor</td>\n",
       "      <td>Unemployed</td>\n",
       "      <td>F</td>\n",
       "      <td>Suburban</td>\n",
       "      <td>Single</td>\n",
       "      <td>Personal L3</td>\n",
       "      <td>Offer3</td>\n",
       "      <td>Agent</td>\n",
       "      <td>Four-Door Car</td>\n",
       "      <td>Medsize</td>\n",
       "    </tr>\n",
       "    <tr>\n",
       "      <th>2</th>\n",
       "      <td>AI49188</td>\n",
       "      <td>Nevada</td>\n",
       "      <td>No</td>\n",
       "      <td>Premium</td>\n",
       "      <td>Bachelor</td>\n",
       "      <td>Employed</td>\n",
       "      <td>F</td>\n",
       "      <td>Suburban</td>\n",
       "      <td>Married</td>\n",
       "      <td>Personal L3</td>\n",
       "      <td>Offer1</td>\n",
       "      <td>Agent</td>\n",
       "      <td>Two-Door Car</td>\n",
       "      <td>Medsize</td>\n",
       "    </tr>\n",
       "    <tr>\n",
       "      <th>3</th>\n",
       "      <td>WW63253</td>\n",
       "      <td>California</td>\n",
       "      <td>No</td>\n",
       "      <td>Basic</td>\n",
       "      <td>Bachelor</td>\n",
       "      <td>Unemployed</td>\n",
       "      <td>M</td>\n",
       "      <td>Suburban</td>\n",
       "      <td>Married</td>\n",
       "      <td>Corporate L2</td>\n",
       "      <td>Offer1</td>\n",
       "      <td>Call Center</td>\n",
       "      <td>SUV</td>\n",
       "      <td>Medsize</td>\n",
       "    </tr>\n",
       "    <tr>\n",
       "      <th>4</th>\n",
       "      <td>HB64268</td>\n",
       "      <td>Washington</td>\n",
       "      <td>No</td>\n",
       "      <td>Basic</td>\n",
       "      <td>Bachelor</td>\n",
       "      <td>Employed</td>\n",
       "      <td>M</td>\n",
       "      <td>Rural</td>\n",
       "      <td>Single</td>\n",
       "      <td>Personal L1</td>\n",
       "      <td>Offer1</td>\n",
       "      <td>Agent</td>\n",
       "      <td>Four-Door Car</td>\n",
       "      <td>Medsize</td>\n",
       "    </tr>\n",
       "    <tr>\n",
       "      <th>...</th>\n",
       "      <td>...</td>\n",
       "      <td>...</td>\n",
       "      <td>...</td>\n",
       "      <td>...</td>\n",
       "      <td>...</td>\n",
       "      <td>...</td>\n",
       "      <td>...</td>\n",
       "      <td>...</td>\n",
       "      <td>...</td>\n",
       "      <td>...</td>\n",
       "      <td>...</td>\n",
       "      <td>...</td>\n",
       "      <td>...</td>\n",
       "      <td>...</td>\n",
       "    </tr>\n",
       "    <tr>\n",
       "      <th>9129</th>\n",
       "      <td>LA72316</td>\n",
       "      <td>California</td>\n",
       "      <td>No</td>\n",
       "      <td>Basic</td>\n",
       "      <td>Bachelor</td>\n",
       "      <td>Employed</td>\n",
       "      <td>M</td>\n",
       "      <td>Urban</td>\n",
       "      <td>Married</td>\n",
       "      <td>Personal L1</td>\n",
       "      <td>Offer2</td>\n",
       "      <td>Web</td>\n",
       "      <td>Four-Door Car</td>\n",
       "      <td>Medsize</td>\n",
       "    </tr>\n",
       "    <tr>\n",
       "      <th>9130</th>\n",
       "      <td>PK87824</td>\n",
       "      <td>California</td>\n",
       "      <td>Yes</td>\n",
       "      <td>Extended</td>\n",
       "      <td>College</td>\n",
       "      <td>Employed</td>\n",
       "      <td>F</td>\n",
       "      <td>Suburban</td>\n",
       "      <td>Divorced</td>\n",
       "      <td>Corporate L3</td>\n",
       "      <td>Offer1</td>\n",
       "      <td>Branch</td>\n",
       "      <td>Four-Door Car</td>\n",
       "      <td>Medsize</td>\n",
       "    </tr>\n",
       "    <tr>\n",
       "      <th>9131</th>\n",
       "      <td>TD14365</td>\n",
       "      <td>California</td>\n",
       "      <td>No</td>\n",
       "      <td>Extended</td>\n",
       "      <td>Bachelor</td>\n",
       "      <td>Unemployed</td>\n",
       "      <td>M</td>\n",
       "      <td>Suburban</td>\n",
       "      <td>Single</td>\n",
       "      <td>Corporate L2</td>\n",
       "      <td>Offer1</td>\n",
       "      <td>Branch</td>\n",
       "      <td>Four-Door Car</td>\n",
       "      <td>Medsize</td>\n",
       "    </tr>\n",
       "    <tr>\n",
       "      <th>9132</th>\n",
       "      <td>UP19263</td>\n",
       "      <td>California</td>\n",
       "      <td>No</td>\n",
       "      <td>Extended</td>\n",
       "      <td>College</td>\n",
       "      <td>Employed</td>\n",
       "      <td>M</td>\n",
       "      <td>Suburban</td>\n",
       "      <td>Married</td>\n",
       "      <td>Personal L2</td>\n",
       "      <td>Offer3</td>\n",
       "      <td>Branch</td>\n",
       "      <td>Four-Door Car</td>\n",
       "      <td>Large</td>\n",
       "    </tr>\n",
       "    <tr>\n",
       "      <th>9133</th>\n",
       "      <td>Y167826</td>\n",
       "      <td>California</td>\n",
       "      <td>No</td>\n",
       "      <td>Extended</td>\n",
       "      <td>College</td>\n",
       "      <td>Unemployed</td>\n",
       "      <td>M</td>\n",
       "      <td>Suburban</td>\n",
       "      <td>Single</td>\n",
       "      <td>Corporate L3</td>\n",
       "      <td>Offer4</td>\n",
       "      <td>Call Center</td>\n",
       "      <td>Two-Door Car</td>\n",
       "      <td>Medsize</td>\n",
       "    </tr>\n",
       "  </tbody>\n",
       "</table>\n",
       "<p>9134 rows × 14 columns</p>\n",
       "</div>"
      ],
      "text/plain": [
       "     customer       state response  coverage education employmentstatus  \\\n",
       "0     BU79786  Washington       No     Basic  Bachelor         Employed   \n",
       "1     QZ44356     Arizona       No  Extended  Bachelor       Unemployed   \n",
       "2     AI49188      Nevada       No   Premium  Bachelor         Employed   \n",
       "3     WW63253  California       No     Basic  Bachelor       Unemployed   \n",
       "4     HB64268  Washington       No     Basic  Bachelor         Employed   \n",
       "...       ...         ...      ...       ...       ...              ...   \n",
       "9129  LA72316  California       No     Basic  Bachelor         Employed   \n",
       "9130  PK87824  California      Yes  Extended   College         Employed   \n",
       "9131  TD14365  California       No  Extended  Bachelor       Unemployed   \n",
       "9132  UP19263  California       No  Extended   College         Employed   \n",
       "9133  Y167826  California       No  Extended   College       Unemployed   \n",
       "\n",
       "     gender location_code marital_status        policy renew_offer_type  \\\n",
       "0         F      Suburban        Married  Corporate L3           Offer1   \n",
       "1         F      Suburban         Single   Personal L3           Offer3   \n",
       "2         F      Suburban        Married   Personal L3           Offer1   \n",
       "3         M      Suburban        Married  Corporate L2           Offer1   \n",
       "4         M         Rural         Single   Personal L1           Offer1   \n",
       "...     ...           ...            ...           ...              ...   \n",
       "9129      M         Urban        Married   Personal L1           Offer2   \n",
       "9130      F      Suburban       Divorced  Corporate L3           Offer1   \n",
       "9131      M      Suburban         Single  Corporate L2           Offer1   \n",
       "9132      M      Suburban        Married   Personal L2           Offer3   \n",
       "9133      M      Suburban         Single  Corporate L3           Offer4   \n",
       "\n",
       "     sales_channel  vehicle_class vehicle_size  \n",
       "0            Agent   Two-Door Car      Medsize  \n",
       "1            Agent  Four-Door Car      Medsize  \n",
       "2            Agent   Two-Door Car      Medsize  \n",
       "3      Call Center            SUV      Medsize  \n",
       "4            Agent  Four-Door Car      Medsize  \n",
       "...            ...            ...          ...  \n",
       "9129           Web  Four-Door Car      Medsize  \n",
       "9130        Branch  Four-Door Car      Medsize  \n",
       "9131        Branch  Four-Door Car      Medsize  \n",
       "9132        Branch  Four-Door Car        Large  \n",
       "9133   Call Center   Two-Door Car      Medsize  \n",
       "\n",
       "[9134 rows x 14 columns]"
      ]
     },
     "execution_count": 32,
     "metadata": {},
     "output_type": "execute_result"
    }
   ],
   "source": [
    "categoricals = categoricals.drop('policy_type', axis=1)\n",
    "categoricals"
   ]
  },
  {
   "cell_type": "markdown",
   "id": "405dca19-b53b-4b49-8c54-0fe4ff633185",
   "metadata": {},
   "source": [
    "### Plot time variable. Can you extract something from it?"
   ]
  },
  {
   "cell_type": "code",
   "execution_count": 33,
   "id": "6aef5797-edf6-4233-a0e1-e748cc92d55b",
   "metadata": {},
   "outputs": [
    {
     "data": {
      "text/plain": [
       "2011-01-10    195\n",
       "2011-01-27    194\n",
       "2011-02-14    186\n",
       "2011-01-26    181\n",
       "2011-01-17    180\n",
       "2011-01-19    179\n",
       "2011-01-03    178\n",
       "2011-01-31    178\n",
       "2011-01-20    173\n",
       "2011-02-26    169\n",
       "2011-01-28    169\n",
       "2011-02-19    168\n",
       "2011-02-27    167\n",
       "2011-01-05    167\n",
       "2011-01-11    166\n",
       "2011-02-04    164\n",
       "2011-02-28    161\n",
       "2011-02-10    161\n",
       "2011-01-21    160\n",
       "2011-01-29    160\n",
       "2011-01-02    160\n",
       "2011-02-03    158\n",
       "2011-02-22    158\n",
       "2011-02-05    158\n",
       "2011-02-07    157\n",
       "2011-02-12    156\n",
       "2011-01-23    155\n",
       "2011-01-18    154\n",
       "2011-02-01    154\n",
       "2011-01-15    153\n",
       "2011-01-14    152\n",
       "2011-02-11    151\n",
       "2011-01-25    151\n",
       "2011-01-07    151\n",
       "2011-01-08    149\n",
       "2011-02-18    149\n",
       "2011-02-02    149\n",
       "2011-02-25    149\n",
       "2011-01-01    148\n",
       "2011-02-21    148\n",
       "2011-01-24    147\n",
       "2011-01-09    146\n",
       "2011-01-30    145\n",
       "2011-01-13    145\n",
       "2011-02-06    144\n",
       "2011-02-23    143\n",
       "2011-01-06    143\n",
       "2011-01-16    142\n",
       "2011-02-13    139\n",
       "2011-02-16    139\n",
       "2011-02-24    139\n",
       "2011-02-09    137\n",
       "2011-01-22    136\n",
       "2011-02-17    136\n",
       "2011-02-08    134\n",
       "2011-02-20    132\n",
       "2011-02-15    130\n",
       "2011-01-12    126\n",
       "2011-01-04    115\n",
       "Name: effective_to_date, dtype: int64"
      ]
     },
     "execution_count": 33,
     "metadata": {},
     "output_type": "execute_result"
    }
   ],
   "source": [
    "customer_df['effective_to_date'].value_counts()"
   ]
  },
  {
   "cell_type": "code",
   "execution_count": 34,
   "id": "d55e5789-e839-477c-93de-231c39ab34ec",
   "metadata": {},
   "outputs": [],
   "source": [
    "date = pd.DataFrame(customer_df['effective_to_date'].value_counts().reset_index())\n",
    "date.columns = ['date', 'count']\n",
    "date = date.sort_values('date', ascending=True)"
   ]
  },
  {
   "cell_type": "code",
   "execution_count": 35,
   "id": "d87bc57e-ea95-4456-a536-9e38293d826a",
   "metadata": {},
   "outputs": [],
   "source": [
    "date['date'] = pd.to_datetime(date['date']).dt.date"
   ]
  },
  {
   "cell_type": "code",
   "execution_count": 36,
   "id": "e857ddd6-0b0f-486b-b2ac-a4d861bbd225",
   "metadata": {},
   "outputs": [
    {
     "data": {
      "image/png": "[encoded data removed]",
      "text/plain": [
       "<Figure size 1080x360 with 1 Axes>"
      ]
     },
     "metadata": {
      "needs_background": "light"
     },
     "output_type": "display_data"
    }
   ],
   "source": [
    "fig = plt.figure(figsize=(15, 5))\n",
    "plot = sns.barplot(date['date'], date['count'])\n",
    "plot.set_xticklabels(labels=date['date'], rotation=50)\n",
    "plt.show()"
   ]
  },
  {
   "cell_type": "markdown",
   "id": "c624ceb6-2537-4f5a-9b27-664b559b4e6c",
   "metadata": {},
   "source": [
    "- all the dates are from january and february 2011\n",
    "- to simplify column we could group by year+month"
   ]
  },
  {
   "cell_type": "code",
   "execution_count": 37,
   "id": "94dff846-4b0d-47db-b772-f1ad00bc477c",
   "metadata": {},
   "outputs": [],
   "source": [
    "def group_month(x):\n",
    "    pattern = '\\d{4}[-]\\d{2}'\n",
    "    new_date = re.findall(pattern, x)[0]\n",
    "    return str(new_date)"
   ]
  },
  {
   "cell_type": "code",
   "execution_count": 38,
   "id": "5915eb87-60ec-43bf-b8a5-73286409a61d",
   "metadata": {},
   "outputs": [
    {
     "ename": "TypeError",
     "evalue": "expected string or bytes-like object",
     "output_type": "error",
     "traceback": [
      "\u001b[1;31m---------------------------------------------------------------------------\u001b[0m",
      "\u001b[1;31mTypeError\u001b[0m                                 Traceback (most recent call last)",
      "\u001b[1;32m<ipython-input-38-f1cec3796ac5>\u001b[0m in \u001b[0;36m<module>\u001b[1;34m\u001b[0m\n\u001b[1;32m----> 1\u001b[1;33m \u001b[0mcustomer_df\u001b[0m\u001b[1;33m[\u001b[0m\u001b[1;34m'effective_to_month'\u001b[0m\u001b[1;33m]\u001b[0m \u001b[1;33m=\u001b[0m \u001b[0mcustomer_df\u001b[0m\u001b[1;33m[\u001b[0m\u001b[1;34m'effective_to_date'\u001b[0m\u001b[1;33m]\u001b[0m\u001b[1;33m.\u001b[0m\u001b[0mapply\u001b[0m\u001b[1;33m(\u001b[0m\u001b[1;32mlambda\u001b[0m \u001b[0mx\u001b[0m\u001b[1;33m:\u001b[0m \u001b[0mgroup_month\u001b[0m\u001b[1;33m(\u001b[0m\u001b[0mx\u001b[0m\u001b[1;33m)\u001b[0m\u001b[1;33m)\u001b[0m\u001b[1;33m\u001b[0m\u001b[1;33m\u001b[0m\u001b[0m\n\u001b[0m\u001b[0;32m      2\u001b[0m \u001b[0mcustomer_df\u001b[0m\u001b[1;33m[\u001b[0m\u001b[1;34m'effective_to_month'\u001b[0m\u001b[1;33m]\u001b[0m\u001b[1;33m\u001b[0m\u001b[1;33m\u001b[0m\u001b[0m\n",
      "\u001b[1;32mc:\\users\\katha\\appdata\\local\\programs\\python\\python39\\lib\\site-packages\\pandas\\core\\series.py\u001b[0m in \u001b[0;36mapply\u001b[1;34m(self, func, convert_dtype, args, **kwds)\u001b[0m\n\u001b[0;32m   4136\u001b[0m             \u001b[1;32melse\u001b[0m\u001b[1;33m:\u001b[0m\u001b[1;33m\u001b[0m\u001b[1;33m\u001b[0m\u001b[0m\n\u001b[0;32m   4137\u001b[0m                 \u001b[0mvalues\u001b[0m \u001b[1;33m=\u001b[0m \u001b[0mself\u001b[0m\u001b[1;33m.\u001b[0m\u001b[0mastype\u001b[0m\u001b[1;33m(\u001b[0m\u001b[0mobject\u001b[0m\u001b[1;33m)\u001b[0m\u001b[1;33m.\u001b[0m\u001b[0m_values\u001b[0m\u001b[1;33m\u001b[0m\u001b[1;33m\u001b[0m\u001b[0m\n\u001b[1;32m-> 4138\u001b[1;33m                 \u001b[0mmapped\u001b[0m \u001b[1;33m=\u001b[0m \u001b[0mlib\u001b[0m\u001b[1;33m.\u001b[0m\u001b[0mmap_infer\u001b[0m\u001b[1;33m(\u001b[0m\u001b[0mvalues\u001b[0m\u001b[1;33m,\u001b[0m \u001b[0mf\u001b[0m\u001b[1;33m,\u001b[0m \u001b[0mconvert\u001b[0m\u001b[1;33m=\u001b[0m\u001b[0mconvert_dtype\u001b[0m\u001b[1;33m)\u001b[0m\u001b[1;33m\u001b[0m\u001b[1;33m\u001b[0m\u001b[0m\n\u001b[0m\u001b[0;32m   4139\u001b[0m \u001b[1;33m\u001b[0m\u001b[0m\n\u001b[0;32m   4140\u001b[0m         \u001b[1;32mif\u001b[0m \u001b[0mlen\u001b[0m\u001b[1;33m(\u001b[0m\u001b[0mmapped\u001b[0m\u001b[1;33m)\u001b[0m \u001b[1;32mand\u001b[0m \u001b[0misinstance\u001b[0m\u001b[1;33m(\u001b[0m\u001b[0mmapped\u001b[0m\u001b[1;33m[\u001b[0m\u001b[1;36m0\u001b[0m\u001b[1;33m]\u001b[0m\u001b[1;33m,\u001b[0m \u001b[0mSeries\u001b[0m\u001b[1;33m)\u001b[0m\u001b[1;33m:\u001b[0m\u001b[1;33m\u001b[0m\u001b[1;33m\u001b[0m\u001b[0m\n",
      "\u001b[1;32mpandas\\_libs\\lib.pyx\u001b[0m in \u001b[0;36mpandas._libs.lib.map_infer\u001b[1;34m()\u001b[0m\n",
      "\u001b[1;32m<ipython-input-38-f1cec3796ac5>\u001b[0m in \u001b[0;36m<lambda>\u001b[1;34m(x)\u001b[0m\n\u001b[1;32m----> 1\u001b[1;33m \u001b[0mcustomer_df\u001b[0m\u001b[1;33m[\u001b[0m\u001b[1;34m'effective_to_month'\u001b[0m\u001b[1;33m]\u001b[0m \u001b[1;33m=\u001b[0m \u001b[0mcustomer_df\u001b[0m\u001b[1;33m[\u001b[0m\u001b[1;34m'effective_to_date'\u001b[0m\u001b[1;33m]\u001b[0m\u001b[1;33m.\u001b[0m\u001b[0mapply\u001b[0m\u001b[1;33m(\u001b[0m\u001b[1;32mlambda\u001b[0m \u001b[0mx\u001b[0m\u001b[1;33m:\u001b[0m \u001b[0mgroup_month\u001b[0m\u001b[1;33m(\u001b[0m\u001b[0mx\u001b[0m\u001b[1;33m)\u001b[0m\u001b[1;33m)\u001b[0m\u001b[1;33m\u001b[0m\u001b[1;33m\u001b[0m\u001b[0m\n\u001b[0m\u001b[0;32m      2\u001b[0m \u001b[0mcustomer_df\u001b[0m\u001b[1;33m[\u001b[0m\u001b[1;34m'effective_to_month'\u001b[0m\u001b[1;33m]\u001b[0m\u001b[1;33m\u001b[0m\u001b[1;33m\u001b[0m\u001b[0m\n",
      "\u001b[1;32m<ipython-input-37-362391188c2c>\u001b[0m in \u001b[0;36mgroup_month\u001b[1;34m(x)\u001b[0m\n\u001b[0;32m      1\u001b[0m \u001b[1;32mdef\u001b[0m \u001b[0mgroup_month\u001b[0m\u001b[1;33m(\u001b[0m\u001b[0mx\u001b[0m\u001b[1;33m)\u001b[0m\u001b[1;33m:\u001b[0m\u001b[1;33m\u001b[0m\u001b[1;33m\u001b[0m\u001b[0m\n\u001b[0;32m      2\u001b[0m     \u001b[0mpattern\u001b[0m \u001b[1;33m=\u001b[0m \u001b[1;34m'\\d{4}[-]\\d{2}'\u001b[0m\u001b[1;33m\u001b[0m\u001b[1;33m\u001b[0m\u001b[0m\n\u001b[1;32m----> 3\u001b[1;33m     \u001b[0mnew_date\u001b[0m \u001b[1;33m=\u001b[0m \u001b[0mre\u001b[0m\u001b[1;33m.\u001b[0m\u001b[0mfindall\u001b[0m\u001b[1;33m(\u001b[0m\u001b[0mpattern\u001b[0m\u001b[1;33m,\u001b[0m \u001b[0mx\u001b[0m\u001b[1;33m)\u001b[0m\u001b[1;33m[\u001b[0m\u001b[1;36m0\u001b[0m\u001b[1;33m]\u001b[0m\u001b[1;33m\u001b[0m\u001b[1;33m\u001b[0m\u001b[0m\n\u001b[0m\u001b[0;32m      4\u001b[0m     \u001b[1;32mreturn\u001b[0m \u001b[0mstr\u001b[0m\u001b[1;33m(\u001b[0m\u001b[0mnew_date\u001b[0m\u001b[1;33m)\u001b[0m\u001b[1;33m\u001b[0m\u001b[1;33m\u001b[0m\u001b[0m\n",
      "\u001b[1;32mc:\\users\\katha\\appdata\\local\\programs\\python\\python39\\lib\\re.py\u001b[0m in \u001b[0;36mfindall\u001b[1;34m(pattern, string, flags)\u001b[0m\n\u001b[0;32m    239\u001b[0m \u001b[1;33m\u001b[0m\u001b[0m\n\u001b[0;32m    240\u001b[0m     Empty matches are included in the result.\"\"\"\n\u001b[1;32m--> 241\u001b[1;33m     \u001b[1;32mreturn\u001b[0m \u001b[0m_compile\u001b[0m\u001b[1;33m(\u001b[0m\u001b[0mpattern\u001b[0m\u001b[1;33m,\u001b[0m \u001b[0mflags\u001b[0m\u001b[1;33m)\u001b[0m\u001b[1;33m.\u001b[0m\u001b[0mfindall\u001b[0m\u001b[1;33m(\u001b[0m\u001b[0mstring\u001b[0m\u001b[1;33m)\u001b[0m\u001b[1;33m\u001b[0m\u001b[1;33m\u001b[0m\u001b[0m\n\u001b[0m\u001b[0;32m    242\u001b[0m \u001b[1;33m\u001b[0m\u001b[0m\n\u001b[0;32m    243\u001b[0m \u001b[1;32mdef\u001b[0m \u001b[0mfinditer\u001b[0m\u001b[1;33m(\u001b[0m\u001b[0mpattern\u001b[0m\u001b[1;33m,\u001b[0m \u001b[0mstring\u001b[0m\u001b[1;33m,\u001b[0m \u001b[0mflags\u001b[0m\u001b[1;33m=\u001b[0m\u001b[1;36m0\u001b[0m\u001b[1;33m)\u001b[0m\u001b[1;33m:\u001b[0m\u001b[1;33m\u001b[0m\u001b[1;33m\u001b[0m\u001b[0m\n",
      "\u001b[1;31mTypeError\u001b[0m: expected string or bytes-like object"
     ]
    }
   ],
   "source": [
    "customer_df['effective_to_month'] = customer_df['effective_to_date'].apply(lambda x: group_month(x))\n",
    "customer_df['effective_to_month']"
   ]
  },
  {
   "cell_type": "code",
   "execution_count": 39,
   "id": "0bbb9170-b2c9-4a3b-b98f-5440fadc1b95",
   "metadata": {},
   "outputs": [
    {
     "ename": "TypeError",
     "evalue": "expected string or bytes-like object",
     "output_type": "error",
     "traceback": [
      "\u001b[1;31m---------------------------------------------------------------------------\u001b[0m",
      "\u001b[1;31mTypeError\u001b[0m                                 Traceback (most recent call last)",
      "\u001b[1;32m<ipython-input-39-c19e3d6fe916>\u001b[0m in \u001b[0;36m<module>\u001b[1;34m\u001b[0m\n\u001b[1;32m----> 1\u001b[1;33m \u001b[0mcustomer_df\u001b[0m\u001b[1;33m[\u001b[0m\u001b[1;34m'effective_to_month'\u001b[0m\u001b[1;33m]\u001b[0m \u001b[1;33m=\u001b[0m \u001b[0mlist\u001b[0m\u001b[1;33m(\u001b[0m\u001b[0mmap\u001b[0m\u001b[1;33m(\u001b[0m\u001b[0mgroup_month\u001b[0m\u001b[1;33m,\u001b[0m \u001b[0mcustomer_df\u001b[0m\u001b[1;33m[\u001b[0m\u001b[1;34m'effective_to_date'\u001b[0m\u001b[1;33m]\u001b[0m\u001b[1;33m)\u001b[0m\u001b[1;33m)\u001b[0m\u001b[1;33m\u001b[0m\u001b[1;33m\u001b[0m\u001b[0m\n\u001b[0m",
      "\u001b[1;32m<ipython-input-37-362391188c2c>\u001b[0m in \u001b[0;36mgroup_month\u001b[1;34m(x)\u001b[0m\n\u001b[0;32m      1\u001b[0m \u001b[1;32mdef\u001b[0m \u001b[0mgroup_month\u001b[0m\u001b[1;33m(\u001b[0m\u001b[0mx\u001b[0m\u001b[1;33m)\u001b[0m\u001b[1;33m:\u001b[0m\u001b[1;33m\u001b[0m\u001b[1;33m\u001b[0m\u001b[0m\n\u001b[0;32m      2\u001b[0m     \u001b[0mpattern\u001b[0m \u001b[1;33m=\u001b[0m \u001b[1;34m'\\d{4}[-]\\d{2}'\u001b[0m\u001b[1;33m\u001b[0m\u001b[1;33m\u001b[0m\u001b[0m\n\u001b[1;32m----> 3\u001b[1;33m     \u001b[0mnew_date\u001b[0m \u001b[1;33m=\u001b[0m \u001b[0mre\u001b[0m\u001b[1;33m.\u001b[0m\u001b[0mfindall\u001b[0m\u001b[1;33m(\u001b[0m\u001b[0mpattern\u001b[0m\u001b[1;33m,\u001b[0m \u001b[0mx\u001b[0m\u001b[1;33m)\u001b[0m\u001b[1;33m[\u001b[0m\u001b[1;36m0\u001b[0m\u001b[1;33m]\u001b[0m\u001b[1;33m\u001b[0m\u001b[1;33m\u001b[0m\u001b[0m\n\u001b[0m\u001b[0;32m      4\u001b[0m     \u001b[1;32mreturn\u001b[0m \u001b[0mstr\u001b[0m\u001b[1;33m(\u001b[0m\u001b[0mnew_date\u001b[0m\u001b[1;33m)\u001b[0m\u001b[1;33m\u001b[0m\u001b[1;33m\u001b[0m\u001b[0m\n",
      "\u001b[1;32mc:\\users\\katha\\appdata\\local\\programs\\python\\python39\\lib\\re.py\u001b[0m in \u001b[0;36mfindall\u001b[1;34m(pattern, string, flags)\u001b[0m\n\u001b[0;32m    239\u001b[0m \u001b[1;33m\u001b[0m\u001b[0m\n\u001b[0;32m    240\u001b[0m     Empty matches are included in the result.\"\"\"\n\u001b[1;32m--> 241\u001b[1;33m     \u001b[1;32mreturn\u001b[0m \u001b[0m_compile\u001b[0m\u001b[1;33m(\u001b[0m\u001b[0mpattern\u001b[0m\u001b[1;33m,\u001b[0m \u001b[0mflags\u001b[0m\u001b[1;33m)\u001b[0m\u001b[1;33m.\u001b[0m\u001b[0mfindall\u001b[0m\u001b[1;33m(\u001b[0m\u001b[0mstring\u001b[0m\u001b[1;33m)\u001b[0m\u001b[1;33m\u001b[0m\u001b[1;33m\u001b[0m\u001b[0m\n\u001b[0m\u001b[0;32m    242\u001b[0m \u001b[1;33m\u001b[0m\u001b[0m\n\u001b[0;32m    243\u001b[0m \u001b[1;32mdef\u001b[0m \u001b[0mfinditer\u001b[0m\u001b[1;33m(\u001b[0m\u001b[0mpattern\u001b[0m\u001b[1;33m,\u001b[0m \u001b[0mstring\u001b[0m\u001b[1;33m,\u001b[0m \u001b[0mflags\u001b[0m\u001b[1;33m=\u001b[0m\u001b[1;36m0\u001b[0m\u001b[1;33m)\u001b[0m\u001b[1;33m:\u001b[0m\u001b[1;33m\u001b[0m\u001b[1;33m\u001b[0m\u001b[0m\n",
      "\u001b[1;31mTypeError\u001b[0m: expected string or bytes-like object"
     ]
    }
   ],
   "source": [
    "customer_df['effective_to_month'] = list(map(group_month, customer_df['effective_to_date']))"
   ]
  },
  {
   "cell_type": "markdown",
   "id": "b8d809c0-8335-4488-b033-0a90114fd05e",
   "metadata": {},
   "source": [
    "--> why does this not work? :/"
   ]
  },
  {
   "cell_type": "markdown",
   "id": "70635be5-82db-4388-a470-7ee411b69771",
   "metadata": {},
   "source": [
    "## Lab | Data cleaning and wrangling"
   ]
  },
  {
   "cell_type": "markdown",
   "id": "ba3db455-ae17-4dab-9d00-e556b1b4dd09",
   "metadata": {},
   "source": [
    "For this lab, we will be using the same dataset we used in the previous labs. We recommend using the same notebook since you will be reusing the same variables you previous created and used in labs."
   ]
  },
  {
   "cell_type": "markdown",
   "id": "96fcad8d-f4ad-49bf-b14e-f2ab7ed1ad1d",
   "metadata": {},
   "source": [
    "### We will start with removing outliers. So far, we have discussed different methods to remove outliers. Use the one you feel more comfortable with, define a function for that. Use the function to remove the outliers and apply it to the dataframe."
   ]
  },
  {
   "cell_type": "code",
   "execution_count": 40,
   "id": "2be9bdb1",
   "metadata": {},
   "outputs": [
    {
     "data": {
      "image/png": "[encoded data removed]",
      "text/plain": [
       "<Figure size 432x288 with 1 Axes>"
      ]
     },
     "metadata": {
      "needs_background": "light"
     },
     "output_type": "display_data"
    },
    {
     "data": {
      "image/png": "[encoded data removed]",
      "text/plain": [
       "<Figure size 432x288 with 1 Axes>"
      ]
     },
     "metadata": {
      "needs_background": "light"
     },
     "output_type": "display_data"
    },
    {
     "data": {
      "image/png": "[encoded data removed]",
      "text/plain": [
       "<Figure size 432x288 with 1 Axes>"
      ]
     },
     "metadata": {
      "needs_background": "light"
     },
     "output_type": "display_data"
    },
    {
     "data": {
      "image/png": "[encoded data removed]",
      "text/plain": [
       "<Figure size 432x288 with 1 Axes>"
      ]
     },
     "metadata": {
      "needs_background": "light"
     },
     "output_type": "display_data"
    },
    {
     "data": {
      "image/png": "[encoded data removed]",
      "text/plain": [
       "<Figure size 432x288 with 1 Axes>"
      ]
     },
     "metadata": {
      "needs_background": "light"
     },
     "output_type": "display_data"
    },
    {
     "data": {
      "image/png": "[encoded data removed]",
      "text/plain": [
       "<Figure size 432x288 with 1 Axes>"
      ]
     },
     "metadata": {
      "needs_background": "light"
     },
     "output_type": "display_data"
    },
    {
     "data": {
      "image/png": "[encoded data removed]",
      "text/plain": [
       "<Figure size 432x288 with 1 Axes>"
      ]
     },
     "metadata": {
      "needs_background": "light"
     },
     "output_type": "display_data"
    },
    {
     "data": {
      "image/png": "[encoded data removed]",
      "text/plain": [
       "<Figure size 432x288 with 1 Axes>"
      ]
     },
     "metadata": {
      "needs_background": "light"
     },
     "output_type": "display_data"
    }
   ],
   "source": [
    "for col in customer_df.select_dtypes(np.number):\n",
    "    sns.boxplot(customer_df[col])\n",
    "    plt.show()"
   ]
  },
  {
   "cell_type": "code",
   "execution_count": 41,
   "id": "faa36ace-b78b-4d1c-b76a-b9c802e6ea5e",
   "metadata": {},
   "outputs": [],
   "source": [
    "def cutting_outliers(data, threshold=1.5, in_columns=[], skip_columns=[]):\n",
    "    for column in in_columns:\n",
    "        if column not in skip_columns:\n",
    "            upper = np.percentile(data[column],75)\n",
    "            lower = np.percentile(data[column],25)\n",
    "            iqr = upper - lower\n",
    "            upper_limit = upper + (threshold * iqr)\n",
    "            lower_limit = lower - (threshold * iqr)\n",
    "            data.loc[data[column] > upper_limit, column] = upper_limit\n",
    "            data.loc[data[column] < lower_limit, column] = lower_limit\n",
    "    return data"
   ]
  },
  {
   "cell_type": "markdown",
   "id": "39aab5e7",
   "metadata": {},
   "source": [
    "- why does this not work?\n",
    "- why does \"data\" need to be defined? I thought that it is being used like a *dummy* when the function is being defined and then when we call the function we give the real inputs?!"
   ]
  },
  {
   "cell_type": "code",
   "execution_count": 42,
   "id": "ea3f6813",
   "metadata": {},
   "outputs": [],
   "source": [
    "customer_df = cutting_outliers(customer_df, threshold=1.5, \n",
    "                               in_columns=customer_df.select_dtypes(np.number).columns, skip_columns=['number_of_open_complaints'])"
   ]
  },
  {
   "cell_type": "code",
   "execution_count": 43,
   "id": "88762f93",
   "metadata": {},
   "outputs": [
    {
     "data": {
      "image/png": "[encoded data removed]",
      "text/plain": [
       "<Figure size 432x288 with 1 Axes>"
      ]
     },
     "metadata": {
      "needs_background": "light"
     },
     "output_type": "display_data"
    },
    {
     "data": {
      "image/png": "[encoded data removed]",
      "text/plain": [
       "<Figure size 432x288 with 1 Axes>"
      ]
     },
     "metadata": {
      "needs_background": "light"
     },
     "output_type": "display_data"
    },
    {
     "data": {
      "image/png": "[encoded data removed]",
      "text/plain": [
       "<Figure size 432x288 with 1 Axes>"
      ]
     },
     "metadata": {
      "needs_background": "light"
     },
     "output_type": "display_data"
    },
    {
     "data": {
      "image/png": "[encoded data removed]",
      "text/plain": [
       "<Figure size 432x288 with 1 Axes>"
      ]
     },
     "metadata": {
      "needs_background": "light"
     },
     "output_type": "display_data"
    },
    {
     "data": {
      "image/png": "[encoded data removed]",
      "text/plain": [
       "<Figure size 432x288 with 1 Axes>"
      ]
     },
     "metadata": {
      "needs_background": "light"
     },
     "output_type": "display_data"
    },
    {
     "data": {
      "image/png": "[encoded data removed]",
      "text/plain": [
       "<Figure size 432x288 with 1 Axes>"
      ]
     },
     "metadata": {
      "needs_background": "light"
     },
     "output_type": "display_data"
    },
    {
     "data": {
      "image/png": "[encoded data removed]",
      "text/plain": [
       "<Figure size 432x288 with 1 Axes>"
      ]
     },
     "metadata": {
      "needs_background": "light"
     },
     "output_type": "display_data"
    },
    {
     "data": {
      "image/png": "[encoded data removed]",
      "text/plain": [
       "<Figure size 432x288 with 1 Axes>"
      ]
     },
     "metadata": {
      "needs_background": "light"
     },
     "output_type": "display_data"
    }
   ],
   "source": [
    "for col in customer_df.select_dtypes(np.number):\n",
    "    sns.boxplot(customer_df[col])\n",
    "    plt.show()"
   ]
  },
  {
   "cell_type": "markdown",
   "id": "a07e256e-cee3-42df-980c-768a722d566f",
   "metadata": {},
   "source": [
    "### Create a copy of the dataframe for the data wrangling."
   ]
  },
  {
   "cell_type": "code",
   "execution_count": 44,
   "id": "f9007409-c805-4d6d-a897-b1b0fa5bbad3",
   "metadata": {},
   "outputs": [
    {
     "data": {
      "text/html": [
       "<div>\n",
       "<style scoped>\n",
       "    .dataframe tbody tr th:only-of-type {\n",
       "        vertical-align: middle;\n",
       "    }\n",
       "\n",
       "    .dataframe tbody tr th {\n",
       "        vertical-align: top;\n",
       "    }\n",
       "\n",
       "    .dataframe thead th {\n",
       "        text-align: right;\n",
       "    }\n",
       "</style>\n",
       "<table border=\"1\" class=\"dataframe\">\n",
       "  <thead>\n",
       "    <tr style=\"text-align: right;\">\n",
       "      <th></th>\n",
       "      <th>customer</th>\n",
       "      <th>state</th>\n",
       "      <th>customer_lifetime_value</th>\n",
       "      <th>response</th>\n",
       "      <th>coverage</th>\n",
       "      <th>education</th>\n",
       "      <th>effective_to_date</th>\n",
       "      <th>employmentstatus</th>\n",
       "      <th>gender</th>\n",
       "      <th>income</th>\n",
       "      <th>...</th>\n",
       "      <th>months_since_policy_inception</th>\n",
       "      <th>number_of_open_complaints</th>\n",
       "      <th>number_of_policies</th>\n",
       "      <th>policy_type</th>\n",
       "      <th>policy</th>\n",
       "      <th>renew_offer_type</th>\n",
       "      <th>sales_channel</th>\n",
       "      <th>total_claim_amount</th>\n",
       "      <th>vehicle_class</th>\n",
       "      <th>vehicle_size</th>\n",
       "    </tr>\n",
       "  </thead>\n",
       "  <tbody>\n",
       "    <tr>\n",
       "      <th>0</th>\n",
       "      <td>BU79786</td>\n",
       "      <td>Washington</td>\n",
       "      <td>2763.519279</td>\n",
       "      <td>No</td>\n",
       "      <td>Basic</td>\n",
       "      <td>Bachelor</td>\n",
       "      <td>2011-02-24</td>\n",
       "      <td>Employed</td>\n",
       "      <td>F</td>\n",
       "      <td>56274.0</td>\n",
       "      <td>...</td>\n",
       "      <td>5.0</td>\n",
       "      <td>0</td>\n",
       "      <td>1.0</td>\n",
       "      <td>Corporate Auto</td>\n",
       "      <td>Corporate L3</td>\n",
       "      <td>Offer1</td>\n",
       "      <td>Agent</td>\n",
       "      <td>384.811147</td>\n",
       "      <td>Two-Door Car</td>\n",
       "      <td>Medsize</td>\n",
       "    </tr>\n",
       "    <tr>\n",
       "      <th>1</th>\n",
       "      <td>QZ44356</td>\n",
       "      <td>Arizona</td>\n",
       "      <td>6979.535903</td>\n",
       "      <td>No</td>\n",
       "      <td>Extended</td>\n",
       "      <td>Bachelor</td>\n",
       "      <td>2011-01-31</td>\n",
       "      <td>Unemployed</td>\n",
       "      <td>F</td>\n",
       "      <td>0.0</td>\n",
       "      <td>...</td>\n",
       "      <td>42.0</td>\n",
       "      <td>0</td>\n",
       "      <td>8.0</td>\n",
       "      <td>Personal Auto</td>\n",
       "      <td>Personal L3</td>\n",
       "      <td>Offer3</td>\n",
       "      <td>Agent</td>\n",
       "      <td>960.399730</td>\n",
       "      <td>Four-Door Car</td>\n",
       "      <td>Medsize</td>\n",
       "    </tr>\n",
       "    <tr>\n",
       "      <th>2</th>\n",
       "      <td>AI49188</td>\n",
       "      <td>Nevada</td>\n",
       "      <td>12887.431650</td>\n",
       "      <td>No</td>\n",
       "      <td>Premium</td>\n",
       "      <td>Bachelor</td>\n",
       "      <td>2011-02-19</td>\n",
       "      <td>Employed</td>\n",
       "      <td>F</td>\n",
       "      <td>48767.0</td>\n",
       "      <td>...</td>\n",
       "      <td>38.0</td>\n",
       "      <td>0</td>\n",
       "      <td>2.0</td>\n",
       "      <td>Personal Auto</td>\n",
       "      <td>Personal L3</td>\n",
       "      <td>Offer1</td>\n",
       "      <td>Agent</td>\n",
       "      <td>566.472247</td>\n",
       "      <td>Two-Door Car</td>\n",
       "      <td>Medsize</td>\n",
       "    </tr>\n",
       "    <tr>\n",
       "      <th>3</th>\n",
       "      <td>WW63253</td>\n",
       "      <td>California</td>\n",
       "      <td>7645.861827</td>\n",
       "      <td>No</td>\n",
       "      <td>Basic</td>\n",
       "      <td>Bachelor</td>\n",
       "      <td>2011-01-20</td>\n",
       "      <td>Unemployed</td>\n",
       "      <td>M</td>\n",
       "      <td>0.0</td>\n",
       "      <td>...</td>\n",
       "      <td>65.0</td>\n",
       "      <td>0</td>\n",
       "      <td>7.0</td>\n",
       "      <td>Corporate Auto</td>\n",
       "      <td>Corporate L2</td>\n",
       "      <td>Offer1</td>\n",
       "      <td>Call Center</td>\n",
       "      <td>529.881344</td>\n",
       "      <td>SUV</td>\n",
       "      <td>Medsize</td>\n",
       "    </tr>\n",
       "    <tr>\n",
       "      <th>4</th>\n",
       "      <td>HB64268</td>\n",
       "      <td>Washington</td>\n",
       "      <td>2813.692575</td>\n",
       "      <td>No</td>\n",
       "      <td>Basic</td>\n",
       "      <td>Bachelor</td>\n",
       "      <td>2011-02-03</td>\n",
       "      <td>Employed</td>\n",
       "      <td>M</td>\n",
       "      <td>43836.0</td>\n",
       "      <td>...</td>\n",
       "      <td>44.0</td>\n",
       "      <td>0</td>\n",
       "      <td>1.0</td>\n",
       "      <td>Personal Auto</td>\n",
       "      <td>Personal L1</td>\n",
       "      <td>Offer1</td>\n",
       "      <td>Agent</td>\n",
       "      <td>138.130879</td>\n",
       "      <td>Four-Door Car</td>\n",
       "      <td>Medsize</td>\n",
       "    </tr>\n",
       "  </tbody>\n",
       "</table>\n",
       "<p>5 rows × 24 columns</p>\n",
       "</div>"
      ],
      "text/plain": [
       "  customer       state  customer_lifetime_value response  coverage education  \\\n",
       "0  BU79786  Washington              2763.519279       No     Basic  Bachelor   \n",
       "1  QZ44356     Arizona              6979.535903       No  Extended  Bachelor   \n",
       "2  AI49188      Nevada             12887.431650       No   Premium  Bachelor   \n",
       "3  WW63253  California              7645.861827       No     Basic  Bachelor   \n",
       "4  HB64268  Washington              2813.692575       No     Basic  Bachelor   \n",
       "\n",
       "  effective_to_date employmentstatus gender   income  ...  \\\n",
       "0        2011-02-24         Employed      F  56274.0  ...   \n",
       "1        2011-01-31       Unemployed      F      0.0  ...   \n",
       "2        2011-02-19         Employed      F  48767.0  ...   \n",
       "3        2011-01-20       Unemployed      M      0.0  ...   \n",
       "4        2011-02-03         Employed      M  43836.0  ...   \n",
       "\n",
       "  months_since_policy_inception number_of_open_complaints  number_of_policies  \\\n",
       "0                           5.0                         0                 1.0   \n",
       "1                          42.0                         0                 8.0   \n",
       "2                          38.0                         0                 2.0   \n",
       "3                          65.0                         0                 7.0   \n",
       "4                          44.0                         0                 1.0   \n",
       "\n",
       "      policy_type        policy  renew_offer_type  sales_channel  \\\n",
       "0  Corporate Auto  Corporate L3            Offer1          Agent   \n",
       "1   Personal Auto   Personal L3            Offer3          Agent   \n",
       "2   Personal Auto   Personal L3            Offer1          Agent   \n",
       "3  Corporate Auto  Corporate L2            Offer1    Call Center   \n",
       "4   Personal Auto   Personal L1            Offer1          Agent   \n",
       "\n",
       "  total_claim_amount  vehicle_class vehicle_size  \n",
       "0         384.811147   Two-Door Car      Medsize  \n",
       "1         960.399730  Four-Door Car      Medsize  \n",
       "2         566.472247   Two-Door Car      Medsize  \n",
       "3         529.881344            SUV      Medsize  \n",
       "4         138.130879  Four-Door Car      Medsize  \n",
       "\n",
       "[5 rows x 24 columns]"
      ]
     },
     "execution_count": 44,
     "metadata": {},
     "output_type": "execute_result"
    }
   ],
   "source": [
    "customer_df1 = customer_df.copy()\n",
    "customer_df1.head()"
   ]
  },
  {
   "cell_type": "markdown",
   "id": "234ed6b0-1bcb-4dd6-a980-4570867d3442",
   "metadata": {},
   "source": [
    "### Normalize the continuous variables. You can use any one method you want."
   ]
  },
  {
   "cell_type": "code",
   "execution_count": 45,
   "id": "3513f7c6-185c-4bd4-9ef7-3a02fd4628d4",
   "metadata": {},
   "outputs": [
    {
     "data": {
      "text/html": [
       "<div>\n",
       "<style scoped>\n",
       "    .dataframe tbody tr th:only-of-type {\n",
       "        vertical-align: middle;\n",
       "    }\n",
       "\n",
       "    .dataframe tbody tr th {\n",
       "        vertical-align: top;\n",
       "    }\n",
       "\n",
       "    .dataframe thead th {\n",
       "        text-align: right;\n",
       "    }\n",
       "</style>\n",
       "<table border=\"1\" class=\"dataframe\">\n",
       "  <thead>\n",
       "    <tr style=\"text-align: right;\">\n",
       "      <th></th>\n",
       "      <th>customer_lifetime_value</th>\n",
       "      <th>income</th>\n",
       "      <th>monthly_premium_auto</th>\n",
       "      <th>months_since_last_claim</th>\n",
       "      <th>months_since_policy_inception</th>\n",
       "      <th>number_of_open_complaints</th>\n",
       "      <th>number_of_policies</th>\n",
       "      <th>total_claim_amount</th>\n",
       "    </tr>\n",
       "  </thead>\n",
       "  <tbody>\n",
       "    <tr>\n",
       "      <th>0</th>\n",
       "      <td>2763.519279</td>\n",
       "      <td>56274.0</td>\n",
       "      <td>69.0</td>\n",
       "      <td>32.0</td>\n",
       "      <td>5.0</td>\n",
       "      <td>0</td>\n",
       "      <td>1.0</td>\n",
       "      <td>384.811147</td>\n",
       "    </tr>\n",
       "    <tr>\n",
       "      <th>1</th>\n",
       "      <td>6979.535903</td>\n",
       "      <td>0.0</td>\n",
       "      <td>94.0</td>\n",
       "      <td>13.0</td>\n",
       "      <td>42.0</td>\n",
       "      <td>0</td>\n",
       "      <td>8.0</td>\n",
       "      <td>960.399730</td>\n",
       "    </tr>\n",
       "    <tr>\n",
       "      <th>2</th>\n",
       "      <td>12887.431650</td>\n",
       "      <td>48767.0</td>\n",
       "      <td>108.0</td>\n",
       "      <td>18.0</td>\n",
       "      <td>38.0</td>\n",
       "      <td>0</td>\n",
       "      <td>2.0</td>\n",
       "      <td>566.472247</td>\n",
       "    </tr>\n",
       "    <tr>\n",
       "      <th>3</th>\n",
       "      <td>7645.861827</td>\n",
       "      <td>0.0</td>\n",
       "      <td>106.0</td>\n",
       "      <td>18.0</td>\n",
       "      <td>65.0</td>\n",
       "      <td>0</td>\n",
       "      <td>7.0</td>\n",
       "      <td>529.881344</td>\n",
       "    </tr>\n",
       "    <tr>\n",
       "      <th>4</th>\n",
       "      <td>2813.692575</td>\n",
       "      <td>43836.0</td>\n",
       "      <td>73.0</td>\n",
       "      <td>12.0</td>\n",
       "      <td>44.0</td>\n",
       "      <td>0</td>\n",
       "      <td>1.0</td>\n",
       "      <td>138.130879</td>\n",
       "    </tr>\n",
       "  </tbody>\n",
       "</table>\n",
       "</div>"
      ],
      "text/plain": [
       "   customer_lifetime_value   income  monthly_premium_auto  \\\n",
       "0              2763.519279  56274.0                  69.0   \n",
       "1              6979.535903      0.0                  94.0   \n",
       "2             12887.431650  48767.0                 108.0   \n",
       "3              7645.861827      0.0                 106.0   \n",
       "4              2813.692575  43836.0                  73.0   \n",
       "\n",
       "   months_since_last_claim  months_since_policy_inception  \\\n",
       "0                     32.0                            5.0   \n",
       "1                     13.0                           42.0   \n",
       "2                     18.0                           38.0   \n",
       "3                     18.0                           65.0   \n",
       "4                     12.0                           44.0   \n",
       "\n",
       "   number_of_open_complaints  number_of_policies  total_claim_amount  \n",
       "0                          0                 1.0          384.811147  \n",
       "1                          0                 8.0          960.399730  \n",
       "2                          0                 2.0          566.472247  \n",
       "3                          0                 7.0          529.881344  \n",
       "4                          0                 1.0          138.130879  "
      ]
     },
     "execution_count": 45,
     "metadata": {},
     "output_type": "execute_result"
    }
   ],
   "source": [
    "numericals = customer_df1.select_dtypes(np.number)\n",
    "numericals.head()"
   ]
  },
  {
   "cell_type": "code",
   "execution_count": 46,
   "id": "25e91db3",
   "metadata": {},
   "outputs": [
    {
     "data": {
      "text/plain": [
       "Index(['customer_lifetime_value', 'income', 'monthly_premium_auto',\n",
       "       'months_since_last_claim', 'months_since_policy_inception',\n",
       "       'number_of_open_complaints', 'number_of_policies',\n",
       "       'total_claim_amount'],\n",
       "      dtype='object')"
      ]
     },
     "execution_count": 46,
     "metadata": {},
     "output_type": "execute_result"
    }
   ],
   "source": [
    "numericals.columns"
   ]
  },
  {
   "cell_type": "code",
   "execution_count": 47,
   "id": "a9285371",
   "metadata": {},
   "outputs": [],
   "source": [
    "num_cols = ['customer_lifetime_value', 'income', 'monthly_premium_auto',\n",
    "           'months_since_last_claim', 'months_since_policy_inception',\n",
    "           'number_of_open_complaints', 'number_of_policies',\n",
    "           'total_claim_amount']"
   ]
  },
  {
   "cell_type": "code",
   "execution_count": 48,
   "id": "aa021acc",
   "metadata": {},
   "outputs": [
    {
     "data": {
      "text/plain": [
       "array([[-1.04447613,  0.61282744, -0.79165453, ..., -0.42224956,\n",
       "        -0.83258216, -0.13948908],\n",
       "       [-0.04869419, -1.23961684,  0.08817139, ..., -0.42224956,\n",
       "         2.16632709,  2.25638981],\n",
       "       [ 1.34669308,  0.36570978,  0.5808739 , ..., -0.42224956,\n",
       "        -0.40416655,  0.61667253],\n",
       "       ...,\n",
       "       [ 0.23103878, -1.23961684, -0.22856594, ...,  2.87324529,\n",
       "        -0.40416655,  1.55037095],\n",
       "       [ 0.08000741, -0.51735647,  0.15855746, ..., -0.42224956,\n",
       "         0.02424906,  1.13584995],\n",
       "       [-1.08030204, -1.23961684, -0.51011024, ..., -0.42224956,\n",
       "        -0.83258216, -0.20280526]])"
      ]
     },
     "execution_count": 48,
     "metadata": {},
     "output_type": "execute_result"
    }
   ],
   "source": [
    "transformer = StandardScaler()\n",
    "transformer.fit(numericals)\n",
    "\n",
    "# saving in a pickle\n",
    "with open('std_scl_transformer.pickle', 'wb') as file:\n",
    "    pickle.dump(transformer, file)\n",
    "    \n",
    "# loading from a pickle  \n",
    "with open('std_scl_transformer.pickle', 'rb') as file:\n",
    "    loaded_transformer = pickle.load(file)\n",
    "\n",
    "num = loaded_transformer.transform(numericals)\n",
    "\n",
    "num"
   ]
  },
  {
   "cell_type": "code",
   "execution_count": 49,
   "id": "5e607efd",
   "metadata": {},
   "outputs": [
    {
     "data": {
      "text/html": [
       "<div>\n",
       "<style scoped>\n",
       "    .dataframe tbody tr th:only-of-type {\n",
       "        vertical-align: middle;\n",
       "    }\n",
       "\n",
       "    .dataframe tbody tr th {\n",
       "        vertical-align: top;\n",
       "    }\n",
       "\n",
       "    .dataframe thead th {\n",
       "        text-align: right;\n",
       "    }\n",
       "</style>\n",
       "<table border=\"1\" class=\"dataframe\">\n",
       "  <thead>\n",
       "    <tr style=\"text-align: right;\">\n",
       "      <th></th>\n",
       "      <th>customer_lifetime_value</th>\n",
       "      <th>income</th>\n",
       "      <th>monthly_premium_auto</th>\n",
       "      <th>months_since_last_claim</th>\n",
       "      <th>months_since_policy_inception</th>\n",
       "      <th>number_of_open_complaints</th>\n",
       "      <th>number_of_policies</th>\n",
       "      <th>total_claim_amount</th>\n",
       "    </tr>\n",
       "  </thead>\n",
       "  <tbody>\n",
       "    <tr>\n",
       "      <th>0</th>\n",
       "      <td>-1.044476</td>\n",
       "      <td>0.612827</td>\n",
       "      <td>-0.791655</td>\n",
       "      <td>1.678099</td>\n",
       "      <td>-1.543287</td>\n",
       "      <td>-0.422250</td>\n",
       "      <td>-0.832582</td>\n",
       "      <td>-0.139489</td>\n",
       "    </tr>\n",
       "    <tr>\n",
       "      <th>1</th>\n",
       "      <td>-0.048694</td>\n",
       "      <td>-1.239617</td>\n",
       "      <td>0.088171</td>\n",
       "      <td>-0.208186</td>\n",
       "      <td>-0.217334</td>\n",
       "      <td>-0.422250</td>\n",
       "      <td>2.166327</td>\n",
       "      <td>2.256390</td>\n",
       "    </tr>\n",
       "    <tr>\n",
       "      <th>2</th>\n",
       "      <td>1.346693</td>\n",
       "      <td>0.365710</td>\n",
       "      <td>0.580874</td>\n",
       "      <td>0.288205</td>\n",
       "      <td>-0.360680</td>\n",
       "      <td>-0.422250</td>\n",
       "      <td>-0.404167</td>\n",
       "      <td>0.616673</td>\n",
       "    </tr>\n",
       "    <tr>\n",
       "      <th>3</th>\n",
       "      <td>0.108685</td>\n",
       "      <td>-1.239617</td>\n",
       "      <td>0.510488</td>\n",
       "      <td>0.288205</td>\n",
       "      <td>0.606907</td>\n",
       "      <td>-0.422250</td>\n",
       "      <td>1.737911</td>\n",
       "      <td>0.464363</td>\n",
       "    </tr>\n",
       "    <tr>\n",
       "      <th>4</th>\n",
       "      <td>-1.032626</td>\n",
       "      <td>0.203390</td>\n",
       "      <td>-0.650882</td>\n",
       "      <td>-0.307465</td>\n",
       "      <td>-0.145661</td>\n",
       "      <td>-0.422250</td>\n",
       "      <td>-0.832582</td>\n",
       "      <td>-1.166292</td>\n",
       "    </tr>\n",
       "    <tr>\n",
       "      <th>...</th>\n",
       "      <td>...</td>\n",
       "      <td>...</td>\n",
       "      <td>...</td>\n",
       "      <td>...</td>\n",
       "      <td>...</td>\n",
       "      <td>...</td>\n",
       "      <td>...</td>\n",
       "      <td>...</td>\n",
       "    </tr>\n",
       "    <tr>\n",
       "      <th>9129</th>\n",
       "      <td>2.179644</td>\n",
       "      <td>1.128558</td>\n",
       "      <td>-0.650882</td>\n",
       "      <td>0.288205</td>\n",
       "      <td>1.466984</td>\n",
       "      <td>-0.422250</td>\n",
       "      <td>-0.404167</td>\n",
       "      <td>-0.916110</td>\n",
       "    </tr>\n",
       "    <tr>\n",
       "      <th>9130</th>\n",
       "      <td>-0.965827</td>\n",
       "      <td>-0.528450</td>\n",
       "      <td>-0.439724</td>\n",
       "      <td>-0.108908</td>\n",
       "      <td>-0.719046</td>\n",
       "      <td>-0.422250</td>\n",
       "      <td>-0.832582</td>\n",
       "      <td>-0.162845</td>\n",
       "    </tr>\n",
       "    <tr>\n",
       "      <th>9131</th>\n",
       "      <td>0.231039</td>\n",
       "      <td>-1.239617</td>\n",
       "      <td>-0.228566</td>\n",
       "      <td>-0.605299</td>\n",
       "      <td>-0.396517</td>\n",
       "      <td>2.873245</td>\n",
       "      <td>-0.404167</td>\n",
       "      <td>1.550371</td>\n",
       "    </tr>\n",
       "    <tr>\n",
       "      <th>9132</th>\n",
       "      <td>0.080007</td>\n",
       "      <td>-0.517356</td>\n",
       "      <td>0.158557</td>\n",
       "      <td>1.876656</td>\n",
       "      <td>-1.614960</td>\n",
       "      <td>-0.422250</td>\n",
       "      <td>0.024249</td>\n",
       "      <td>1.135850</td>\n",
       "    </tr>\n",
       "    <tr>\n",
       "      <th>9133</th>\n",
       "      <td>-1.080302</td>\n",
       "      <td>-1.239617</td>\n",
       "      <td>-0.510110</td>\n",
       "      <td>-1.200968</td>\n",
       "      <td>1.502821</td>\n",
       "      <td>-0.422250</td>\n",
       "      <td>-0.832582</td>\n",
       "      <td>-0.202805</td>\n",
       "    </tr>\n",
       "  </tbody>\n",
       "</table>\n",
       "<p>9134 rows × 8 columns</p>\n",
       "</div>"
      ],
      "text/plain": [
       "      customer_lifetime_value    income  monthly_premium_auto  \\\n",
       "0                   -1.044476  0.612827             -0.791655   \n",
       "1                   -0.048694 -1.239617              0.088171   \n",
       "2                    1.346693  0.365710              0.580874   \n",
       "3                    0.108685 -1.239617              0.510488   \n",
       "4                   -1.032626  0.203390             -0.650882   \n",
       "...                       ...       ...                   ...   \n",
       "9129                 2.179644  1.128558             -0.650882   \n",
       "9130                -0.965827 -0.528450             -0.439724   \n",
       "9131                 0.231039 -1.239617             -0.228566   \n",
       "9132                 0.080007 -0.517356              0.158557   \n",
       "9133                -1.080302 -1.239617             -0.510110   \n",
       "\n",
       "      months_since_last_claim  months_since_policy_inception  \\\n",
       "0                    1.678099                      -1.543287   \n",
       "1                   -0.208186                      -0.217334   \n",
       "2                    0.288205                      -0.360680   \n",
       "3                    0.288205                       0.606907   \n",
       "4                   -0.307465                      -0.145661   \n",
       "...                       ...                            ...   \n",
       "9129                 0.288205                       1.466984   \n",
       "9130                -0.108908                      -0.719046   \n",
       "9131                -0.605299                      -0.396517   \n",
       "9132                 1.876656                      -1.614960   \n",
       "9133                -1.200968                       1.502821   \n",
       "\n",
       "      number_of_open_complaints  number_of_policies  total_claim_amount  \n",
       "0                     -0.422250           -0.832582           -0.139489  \n",
       "1                     -0.422250            2.166327            2.256390  \n",
       "2                     -0.422250           -0.404167            0.616673  \n",
       "3                     -0.422250            1.737911            0.464363  \n",
       "4                     -0.422250           -0.832582           -1.166292  \n",
       "...                         ...                 ...                 ...  \n",
       "9129                  -0.422250           -0.404167           -0.916110  \n",
       "9130                  -0.422250           -0.832582           -0.162845  \n",
       "9131                   2.873245           -0.404167            1.550371  \n",
       "9132                  -0.422250            0.024249            1.135850  \n",
       "9133                  -0.422250           -0.832582           -0.202805  \n",
       "\n",
       "[9134 rows x 8 columns]"
      ]
     },
     "execution_count": 49,
     "metadata": {},
     "output_type": "execute_result"
    }
   ],
   "source": [
    "num_scaled = pd.DataFrame(num, columns = num_cols)\n",
    "num_scaled"
   ]
  },
  {
   "cell_type": "markdown",
   "id": "2fc86e33",
   "metadata": {},
   "source": [
    "--> usually this is only done after train-test-split"
   ]
  },
  {
   "cell_type": "markdown",
   "id": "530938ae-9cfb-431f-a8cc-40f6ab202ddc",
   "metadata": {},
   "source": [
    "### Encode the categorical variables"
   ]
  },
  {
   "cell_type": "markdown",
   "id": "7894c2e5",
   "metadata": {},
   "source": [
    "Hint for Categorical Variables\n",
    "\n",
    "You should deal with the categorical variables as shown below (for ordinal encoding, dummy code has been provided as well):\n",
    "- One hot to state\n",
    "- Ordinal to coverage\n",
    "- Ordinal to employmentstatus\n",
    "- Ordinal to location code\n",
    "- One hot to marital status\n",
    "- One hot to policy type\n",
    "- One hot to policy\n",
    "- One hot to renew offercustomer_df\n",
    "- One hot to sales channel\n",
    "- One hot vehicle class\n",
    "- Ordinal vehicle size\n",
    "\n",
    "data[\"coverage\"] = data[\"coverage\"].map({\"Basic\" : 0, \"Extended\" : 1, \"Premium\" : 2})\n",
    "- given that column \"coverage\" in the dataframe \"data\" has three categories:\n",
    "- \"basic\", \"extended\", and \"premium\" and values are to be represented in the same order."
   ]
  },
  {
   "cell_type": "code",
   "execution_count": 50,
   "id": "aadfbfa4",
   "metadata": {},
   "outputs": [],
   "source": [
    "categoricals = customer_df1.select_dtypes('object')"
   ]
  },
  {
   "cell_type": "code",
   "execution_count": 51,
   "id": "2409151e",
   "metadata": {},
   "outputs": [],
   "source": [
    "# ordinal encoding\n",
    "cat_ordinal = categoricals.copy()\n",
    "cat_ordinal = cat_ordinal.drop(['customer','response','state', 'gender', 'marital_status', 'policy_type', 'policy', \n",
    "                               'renew_offer_type', 'sales_channel', 'vehicle_class'], axis=1)"
   ]
  },
  {
   "cell_type": "code",
   "execution_count": 52,
   "id": "e88b3932",
   "metadata": {},
   "outputs": [
    {
     "name": "stdout",
     "output_type": "stream",
     "text": [
      "Basic       5568\n",
      "Extended    2742\n",
      "Premium      824\n",
      "Name: coverage, dtype: int64 \n",
      "\n",
      "Bachelor                2748\n",
      "College                 2681\n",
      "High School or Below    2622\n",
      "Master                   741\n",
      "Doctor                   342\n",
      "Name: education, dtype: int64 \n",
      "\n",
      "Employed         5698\n",
      "Unemployed       2317\n",
      "Medical Leave     432\n",
      "Disabled          405\n",
      "Retired           282\n",
      "Name: employmentstatus, dtype: int64 \n",
      "\n",
      "Suburban    5779\n",
      "Rural       1773\n",
      "Urban       1582\n",
      "Name: location_code, dtype: int64 \n",
      "\n",
      "Medsize    6424\n",
      "Small      1764\n",
      "Large       946\n",
      "Name: vehicle_size, dtype: int64 \n",
      "\n"
     ]
    }
   ],
   "source": [
    "for col in cat_ordinal:\n",
    "    print(cat_ordinal[col].value_counts(), '\\n')"
   ]
  },
  {
   "cell_type": "code",
   "execution_count": 53,
   "id": "15661a17",
   "metadata": {},
   "outputs": [
    {
     "data": {
      "text/html": [
       "<div>\n",
       "<style scoped>\n",
       "    .dataframe tbody tr th:only-of-type {\n",
       "        vertical-align: middle;\n",
       "    }\n",
       "\n",
       "    .dataframe tbody tr th {\n",
       "        vertical-align: top;\n",
       "    }\n",
       "\n",
       "    .dataframe thead th {\n",
       "        text-align: right;\n",
       "    }\n",
       "</style>\n",
       "<table border=\"1\" class=\"dataframe\">\n",
       "  <thead>\n",
       "    <tr style=\"text-align: right;\">\n",
       "      <th></th>\n",
       "      <th>coverage</th>\n",
       "      <th>education</th>\n",
       "      <th>employmentstatus</th>\n",
       "      <th>location_code</th>\n",
       "      <th>vehicle_size</th>\n",
       "    </tr>\n",
       "  </thead>\n",
       "  <tbody>\n",
       "    <tr>\n",
       "      <th>0</th>\n",
       "      <td>0</td>\n",
       "      <td>2</td>\n",
       "      <td>2</td>\n",
       "      <td>1</td>\n",
       "      <td>1</td>\n",
       "    </tr>\n",
       "    <tr>\n",
       "      <th>1</th>\n",
       "      <td>1</td>\n",
       "      <td>2</td>\n",
       "      <td>2</td>\n",
       "      <td>1</td>\n",
       "      <td>1</td>\n",
       "    </tr>\n",
       "    <tr>\n",
       "      <th>2</th>\n",
       "      <td>2</td>\n",
       "      <td>2</td>\n",
       "      <td>2</td>\n",
       "      <td>1</td>\n",
       "      <td>1</td>\n",
       "    </tr>\n",
       "    <tr>\n",
       "      <th>3</th>\n",
       "      <td>0</td>\n",
       "      <td>2</td>\n",
       "      <td>2</td>\n",
       "      <td>1</td>\n",
       "      <td>1</td>\n",
       "    </tr>\n",
       "    <tr>\n",
       "      <th>4</th>\n",
       "      <td>0</td>\n",
       "      <td>2</td>\n",
       "      <td>2</td>\n",
       "      <td>0</td>\n",
       "      <td>1</td>\n",
       "    </tr>\n",
       "    <tr>\n",
       "      <th>...</th>\n",
       "      <td>...</td>\n",
       "      <td>...</td>\n",
       "      <td>...</td>\n",
       "      <td>...</td>\n",
       "      <td>...</td>\n",
       "    </tr>\n",
       "    <tr>\n",
       "      <th>9129</th>\n",
       "      <td>0</td>\n",
       "      <td>2</td>\n",
       "      <td>2</td>\n",
       "      <td>2</td>\n",
       "      <td>1</td>\n",
       "    </tr>\n",
       "    <tr>\n",
       "      <th>9130</th>\n",
       "      <td>1</td>\n",
       "      <td>1</td>\n",
       "      <td>2</td>\n",
       "      <td>1</td>\n",
       "      <td>1</td>\n",
       "    </tr>\n",
       "    <tr>\n",
       "      <th>9131</th>\n",
       "      <td>1</td>\n",
       "      <td>2</td>\n",
       "      <td>2</td>\n",
       "      <td>1</td>\n",
       "      <td>1</td>\n",
       "    </tr>\n",
       "    <tr>\n",
       "      <th>9132</th>\n",
       "      <td>1</td>\n",
       "      <td>1</td>\n",
       "      <td>2</td>\n",
       "      <td>1</td>\n",
       "      <td>2</td>\n",
       "    </tr>\n",
       "    <tr>\n",
       "      <th>9133</th>\n",
       "      <td>1</td>\n",
       "      <td>1</td>\n",
       "      <td>2</td>\n",
       "      <td>1</td>\n",
       "      <td>1</td>\n",
       "    </tr>\n",
       "  </tbody>\n",
       "</table>\n",
       "<p>9134 rows × 5 columns</p>\n",
       "</div>"
      ],
      "text/plain": [
       "      coverage  education  employmentstatus  location_code  vehicle_size\n",
       "0            0          2                 2              1             1\n",
       "1            1          2                 2              1             1\n",
       "2            2          2                 2              1             1\n",
       "3            0          2                 2              1             1\n",
       "4            0          2                 2              0             1\n",
       "...        ...        ...               ...            ...           ...\n",
       "9129         0          2                 2              2             1\n",
       "9130         1          1                 2              1             1\n",
       "9131         1          2                 2              1             1\n",
       "9132         1          1                 2              1             2\n",
       "9133         1          1                 2              1             1\n",
       "\n",
       "[9134 rows x 5 columns]"
      ]
     },
     "execution_count": 53,
     "metadata": {},
     "output_type": "execute_result"
    }
   ],
   "source": [
    "cat_ordinal['coverage'] = cat_ordinal['coverage'].map({'Basic' : 0, 'Extended' : 1, 'Premium' : 2})\n",
    "cat_ordinal['education'] = cat_ordinal['education'].map({'High School or Below' : 0, 'College' : 1, 'Bachelor' : 2,\n",
    "                                                        'Master' : 3, 'Doctor' : 4})\n",
    "cat_ordinal['employmentstatus'] = cat_ordinal['employmentstatus'].map({'Retired' : 0, 'Disabled' : 1, 'Medical Leave' : 2,\n",
    "                                                                      'Unemployed' : 2, 'Employed' : 2})\n",
    "cat_ordinal['location_code'] = cat_ordinal['location_code'].map({'Rural' : 0, 'Suburban' : 1, 'Urban' : 2})\n",
    "cat_ordinal['vehicle_size'] = cat_ordinal['vehicle_size'].map({'Small': 0, 'Medsize': 1, 'Large': 2})\n",
    "cat_ordinal"
   ]
  },
  {
   "cell_type": "code",
   "execution_count": 54,
   "id": "b169feec",
   "metadata": {},
   "outputs": [],
   "source": [
    "# one hot encoding \n",
    "cat_hot = categoricals.copy()\n",
    "cat_hot = cat_hot.drop(['customer','coverage', 'employmentstatus', 'location_code', 'vehicle_size'], axis=1)\n",
    "\n",
    "cat_hot = pd.get_dummies(cat_hot)"
   ]
  },
  {
   "cell_type": "code",
   "execution_count": 55,
   "id": "f0481914",
   "metadata": {},
   "outputs": [
    {
     "data": {
      "text/html": [
       "<div>\n",
       "<style scoped>\n",
       "    .dataframe tbody tr th:only-of-type {\n",
       "        vertical-align: middle;\n",
       "    }\n",
       "\n",
       "    .dataframe tbody tr th {\n",
       "        vertical-align: top;\n",
       "    }\n",
       "\n",
       "    .dataframe thead th {\n",
       "        text-align: right;\n",
       "    }\n",
       "</style>\n",
       "<table border=\"1\" class=\"dataframe\">\n",
       "  <thead>\n",
       "    <tr style=\"text-align: right;\">\n",
       "      <th></th>\n",
       "      <th>coverage</th>\n",
       "      <th>education</th>\n",
       "      <th>employmentstatus</th>\n",
       "      <th>location_code</th>\n",
       "      <th>vehicle_size</th>\n",
       "      <th>state_Arizona</th>\n",
       "      <th>state_California</th>\n",
       "      <th>state_Nevada</th>\n",
       "      <th>state_Oregon</th>\n",
       "      <th>state_Washington</th>\n",
       "      <th>...</th>\n",
       "      <th>sales_channel_Agent</th>\n",
       "      <th>sales_channel_Branch</th>\n",
       "      <th>sales_channel_Call Center</th>\n",
       "      <th>sales_channel_Web</th>\n",
       "      <th>vehicle_class_Four-Door Car</th>\n",
       "      <th>vehicle_class_Luxury Car</th>\n",
       "      <th>vehicle_class_Luxury SUV</th>\n",
       "      <th>vehicle_class_SUV</th>\n",
       "      <th>vehicle_class_Sports Car</th>\n",
       "      <th>vehicle_class_Two-Door Car</th>\n",
       "    </tr>\n",
       "  </thead>\n",
       "  <tbody>\n",
       "    <tr>\n",
       "      <th>0</th>\n",
       "      <td>0</td>\n",
       "      <td>2</td>\n",
       "      <td>2</td>\n",
       "      <td>1</td>\n",
       "      <td>1</td>\n",
       "      <td>0</td>\n",
       "      <td>0</td>\n",
       "      <td>0</td>\n",
       "      <td>0</td>\n",
       "      <td>1</td>\n",
       "      <td>...</td>\n",
       "      <td>1</td>\n",
       "      <td>0</td>\n",
       "      <td>0</td>\n",
       "      <td>0</td>\n",
       "      <td>0</td>\n",
       "      <td>0</td>\n",
       "      <td>0</td>\n",
       "      <td>0</td>\n",
       "      <td>0</td>\n",
       "      <td>1</td>\n",
       "    </tr>\n",
       "    <tr>\n",
       "      <th>1</th>\n",
       "      <td>1</td>\n",
       "      <td>2</td>\n",
       "      <td>2</td>\n",
       "      <td>1</td>\n",
       "      <td>1</td>\n",
       "      <td>1</td>\n",
       "      <td>0</td>\n",
       "      <td>0</td>\n",
       "      <td>0</td>\n",
       "      <td>0</td>\n",
       "      <td>...</td>\n",
       "      <td>1</td>\n",
       "      <td>0</td>\n",
       "      <td>0</td>\n",
       "      <td>0</td>\n",
       "      <td>1</td>\n",
       "      <td>0</td>\n",
       "      <td>0</td>\n",
       "      <td>0</td>\n",
       "      <td>0</td>\n",
       "      <td>0</td>\n",
       "    </tr>\n",
       "    <tr>\n",
       "      <th>2</th>\n",
       "      <td>2</td>\n",
       "      <td>2</td>\n",
       "      <td>2</td>\n",
       "      <td>1</td>\n",
       "      <td>1</td>\n",
       "      <td>0</td>\n",
       "      <td>0</td>\n",
       "      <td>1</td>\n",
       "      <td>0</td>\n",
       "      <td>0</td>\n",
       "      <td>...</td>\n",
       "      <td>1</td>\n",
       "      <td>0</td>\n",
       "      <td>0</td>\n",
       "      <td>0</td>\n",
       "      <td>0</td>\n",
       "      <td>0</td>\n",
       "      <td>0</td>\n",
       "      <td>0</td>\n",
       "      <td>0</td>\n",
       "      <td>1</td>\n",
       "    </tr>\n",
       "    <tr>\n",
       "      <th>3</th>\n",
       "      <td>0</td>\n",
       "      <td>2</td>\n",
       "      <td>2</td>\n",
       "      <td>1</td>\n",
       "      <td>1</td>\n",
       "      <td>0</td>\n",
       "      <td>1</td>\n",
       "      <td>0</td>\n",
       "      <td>0</td>\n",
       "      <td>0</td>\n",
       "      <td>...</td>\n",
       "      <td>0</td>\n",
       "      <td>0</td>\n",
       "      <td>1</td>\n",
       "      <td>0</td>\n",
       "      <td>0</td>\n",
       "      <td>0</td>\n",
       "      <td>0</td>\n",
       "      <td>1</td>\n",
       "      <td>0</td>\n",
       "      <td>0</td>\n",
       "    </tr>\n",
       "    <tr>\n",
       "      <th>4</th>\n",
       "      <td>0</td>\n",
       "      <td>2</td>\n",
       "      <td>2</td>\n",
       "      <td>0</td>\n",
       "      <td>1</td>\n",
       "      <td>0</td>\n",
       "      <td>0</td>\n",
       "      <td>0</td>\n",
       "      <td>0</td>\n",
       "      <td>1</td>\n",
       "      <td>...</td>\n",
       "      <td>1</td>\n",
       "      <td>0</td>\n",
       "      <td>0</td>\n",
       "      <td>0</td>\n",
       "      <td>1</td>\n",
       "      <td>0</td>\n",
       "      <td>0</td>\n",
       "      <td>0</td>\n",
       "      <td>0</td>\n",
       "      <td>0</td>\n",
       "    </tr>\n",
       "    <tr>\n",
       "      <th>...</th>\n",
       "      <td>...</td>\n",
       "      <td>...</td>\n",
       "      <td>...</td>\n",
       "      <td>...</td>\n",
       "      <td>...</td>\n",
       "      <td>...</td>\n",
       "      <td>...</td>\n",
       "      <td>...</td>\n",
       "      <td>...</td>\n",
       "      <td>...</td>\n",
       "      <td>...</td>\n",
       "      <td>...</td>\n",
       "      <td>...</td>\n",
       "      <td>...</td>\n",
       "      <td>...</td>\n",
       "      <td>...</td>\n",
       "      <td>...</td>\n",
       "      <td>...</td>\n",
       "      <td>...</td>\n",
       "      <td>...</td>\n",
       "      <td>...</td>\n",
       "    </tr>\n",
       "    <tr>\n",
       "      <th>9129</th>\n",
       "      <td>0</td>\n",
       "      <td>2</td>\n",
       "      <td>2</td>\n",
       "      <td>2</td>\n",
       "      <td>1</td>\n",
       "      <td>0</td>\n",
       "      <td>1</td>\n",
       "      <td>0</td>\n",
       "      <td>0</td>\n",
       "      <td>0</td>\n",
       "      <td>...</td>\n",
       "      <td>0</td>\n",
       "      <td>0</td>\n",
       "      <td>0</td>\n",
       "      <td>1</td>\n",
       "      <td>1</td>\n",
       "      <td>0</td>\n",
       "      <td>0</td>\n",
       "      <td>0</td>\n",
       "      <td>0</td>\n",
       "      <td>0</td>\n",
       "    </tr>\n",
       "    <tr>\n",
       "      <th>9130</th>\n",
       "      <td>1</td>\n",
       "      <td>1</td>\n",
       "      <td>2</td>\n",
       "      <td>1</td>\n",
       "      <td>1</td>\n",
       "      <td>0</td>\n",
       "      <td>1</td>\n",
       "      <td>0</td>\n",
       "      <td>0</td>\n",
       "      <td>0</td>\n",
       "      <td>...</td>\n",
       "      <td>0</td>\n",
       "      <td>1</td>\n",
       "      <td>0</td>\n",
       "      <td>0</td>\n",
       "      <td>1</td>\n",
       "      <td>0</td>\n",
       "      <td>0</td>\n",
       "      <td>0</td>\n",
       "      <td>0</td>\n",
       "      <td>0</td>\n",
       "    </tr>\n",
       "    <tr>\n",
       "      <th>9131</th>\n",
       "      <td>1</td>\n",
       "      <td>2</td>\n",
       "      <td>2</td>\n",
       "      <td>1</td>\n",
       "      <td>1</td>\n",
       "      <td>0</td>\n",
       "      <td>1</td>\n",
       "      <td>0</td>\n",
       "      <td>0</td>\n",
       "      <td>0</td>\n",
       "      <td>...</td>\n",
       "      <td>0</td>\n",
       "      <td>1</td>\n",
       "      <td>0</td>\n",
       "      <td>0</td>\n",
       "      <td>1</td>\n",
       "      <td>0</td>\n",
       "      <td>0</td>\n",
       "      <td>0</td>\n",
       "      <td>0</td>\n",
       "      <td>0</td>\n",
       "    </tr>\n",
       "    <tr>\n",
       "      <th>9132</th>\n",
       "      <td>1</td>\n",
       "      <td>1</td>\n",
       "      <td>2</td>\n",
       "      <td>1</td>\n",
       "      <td>2</td>\n",
       "      <td>0</td>\n",
       "      <td>1</td>\n",
       "      <td>0</td>\n",
       "      <td>0</td>\n",
       "      <td>0</td>\n",
       "      <td>...</td>\n",
       "      <td>0</td>\n",
       "      <td>1</td>\n",
       "      <td>0</td>\n",
       "      <td>0</td>\n",
       "      <td>1</td>\n",
       "      <td>0</td>\n",
       "      <td>0</td>\n",
       "      <td>0</td>\n",
       "      <td>0</td>\n",
       "      <td>0</td>\n",
       "    </tr>\n",
       "    <tr>\n",
       "      <th>9133</th>\n",
       "      <td>1</td>\n",
       "      <td>1</td>\n",
       "      <td>2</td>\n",
       "      <td>1</td>\n",
       "      <td>1</td>\n",
       "      <td>0</td>\n",
       "      <td>1</td>\n",
       "      <td>0</td>\n",
       "      <td>0</td>\n",
       "      <td>0</td>\n",
       "      <td>...</td>\n",
       "      <td>0</td>\n",
       "      <td>0</td>\n",
       "      <td>1</td>\n",
       "      <td>0</td>\n",
       "      <td>0</td>\n",
       "      <td>0</td>\n",
       "      <td>0</td>\n",
       "      <td>0</td>\n",
       "      <td>0</td>\n",
       "      <td>1</td>\n",
       "    </tr>\n",
       "  </tbody>\n",
       "</table>\n",
       "<p>9134 rows × 48 columns</p>\n",
       "</div>"
      ],
      "text/plain": [
       "      coverage  education  employmentstatus  location_code  vehicle_size  \\\n",
       "0            0          2                 2              1             1   \n",
       "1            1          2                 2              1             1   \n",
       "2            2          2                 2              1             1   \n",
       "3            0          2                 2              1             1   \n",
       "4            0          2                 2              0             1   \n",
       "...        ...        ...               ...            ...           ...   \n",
       "9129         0          2                 2              2             1   \n",
       "9130         1          1                 2              1             1   \n",
       "9131         1          2                 2              1             1   \n",
       "9132         1          1                 2              1             2   \n",
       "9133         1          1                 2              1             1   \n",
       "\n",
       "      state_Arizona  state_California  state_Nevada  state_Oregon  \\\n",
       "0                 0                 0             0             0   \n",
       "1                 1                 0             0             0   \n",
       "2                 0                 0             1             0   \n",
       "3                 0                 1             0             0   \n",
       "4                 0                 0             0             0   \n",
       "...             ...               ...           ...           ...   \n",
       "9129              0                 1             0             0   \n",
       "9130              0                 1             0             0   \n",
       "9131              0                 1             0             0   \n",
       "9132              0                 1             0             0   \n",
       "9133              0                 1             0             0   \n",
       "\n",
       "      state_Washington  ...  sales_channel_Agent  sales_channel_Branch  \\\n",
       "0                    1  ...                    1                     0   \n",
       "1                    0  ...                    1                     0   \n",
       "2                    0  ...                    1                     0   \n",
       "3                    0  ...                    0                     0   \n",
       "4                    1  ...                    1                     0   \n",
       "...                ...  ...                  ...                   ...   \n",
       "9129                 0  ...                    0                     0   \n",
       "9130                 0  ...                    0                     1   \n",
       "9131                 0  ...                    0                     1   \n",
       "9132                 0  ...                    0                     1   \n",
       "9133                 0  ...                    0                     0   \n",
       "\n",
       "      sales_channel_Call Center  sales_channel_Web  \\\n",
       "0                             0                  0   \n",
       "1                             0                  0   \n",
       "2                             0                  0   \n",
       "3                             1                  0   \n",
       "4                             0                  0   \n",
       "...                         ...                ...   \n",
       "9129                          0                  1   \n",
       "9130                          0                  0   \n",
       "9131                          0                  0   \n",
       "9132                          0                  0   \n",
       "9133                          1                  0   \n",
       "\n",
       "      vehicle_class_Four-Door Car  vehicle_class_Luxury Car  \\\n",
       "0                               0                         0   \n",
       "1                               1                         0   \n",
       "2                               0                         0   \n",
       "3                               0                         0   \n",
       "4                               1                         0   \n",
       "...                           ...                       ...   \n",
       "9129                            1                         0   \n",
       "9130                            1                         0   \n",
       "9131                            1                         0   \n",
       "9132                            1                         0   \n",
       "9133                            0                         0   \n",
       "\n",
       "      vehicle_class_Luxury SUV  vehicle_class_SUV  vehicle_class_Sports Car  \\\n",
       "0                            0                  0                         0   \n",
       "1                            0                  0                         0   \n",
       "2                            0                  0                         0   \n",
       "3                            0                  1                         0   \n",
       "4                            0                  0                         0   \n",
       "...                        ...                ...                       ...   \n",
       "9129                         0                  0                         0   \n",
       "9130                         0                  0                         0   \n",
       "9131                         0                  0                         0   \n",
       "9132                         0                  0                         0   \n",
       "9133                         0                  0                         0   \n",
       "\n",
       "      vehicle_class_Two-Door Car  \n",
       "0                              1  \n",
       "1                              0  \n",
       "2                              1  \n",
       "3                              0  \n",
       "4                              0  \n",
       "...                          ...  \n",
       "9129                           0  \n",
       "9130                           0  \n",
       "9131                           0  \n",
       "9132                           0  \n",
       "9133                           1  \n",
       "\n",
       "[9134 rows x 48 columns]"
      ]
     },
     "execution_count": 55,
     "metadata": {},
     "output_type": "execute_result"
    }
   ],
   "source": [
    "# merging encoded categorical frames\n",
    "cat_encoded = pd.concat([cat_ordinal, cat_hot], axis=1)\n",
    "cat_encoded"
   ]
  },
  {
   "cell_type": "markdown",
   "id": "b8168e48-a130-4ea2-bbb8-b1e21b7c2993",
   "metadata": {},
   "source": [
    "### The time variable can be useful. Try to transform its data into a useful one. Hint: Day week and month as integers might be useful."
   ]
  },
  {
   "cell_type": "code",
   "execution_count": 56,
   "id": "b8346730",
   "metadata": {},
   "outputs": [
    {
     "data": {
      "text/html": [
       "<div>\n",
       "<style scoped>\n",
       "    .dataframe tbody tr th:only-of-type {\n",
       "        vertical-align: middle;\n",
       "    }\n",
       "\n",
       "    .dataframe tbody tr th {\n",
       "        vertical-align: top;\n",
       "    }\n",
       "\n",
       "    .dataframe thead th {\n",
       "        text-align: right;\n",
       "    }\n",
       "</style>\n",
       "<table border=\"1\" class=\"dataframe\">\n",
       "  <thead>\n",
       "    <tr style=\"text-align: right;\">\n",
       "      <th></th>\n",
       "      <th>effective_to_date</th>\n",
       "    </tr>\n",
       "  </thead>\n",
       "  <tbody>\n",
       "    <tr>\n",
       "      <th>0</th>\n",
       "      <td>2011-02-24</td>\n",
       "    </tr>\n",
       "    <tr>\n",
       "      <th>1</th>\n",
       "      <td>2011-01-31</td>\n",
       "    </tr>\n",
       "    <tr>\n",
       "      <th>2</th>\n",
       "      <td>2011-02-19</td>\n",
       "    </tr>\n",
       "    <tr>\n",
       "      <th>3</th>\n",
       "      <td>2011-01-20</td>\n",
       "    </tr>\n",
       "    <tr>\n",
       "      <th>4</th>\n",
       "      <td>2011-02-03</td>\n",
       "    </tr>\n",
       "  </tbody>\n",
       "</table>\n",
       "</div>"
      ],
      "text/plain": [
       "  effective_to_date\n",
       "0        2011-02-24\n",
       "1        2011-01-31\n",
       "2        2011-02-19\n",
       "3        2011-01-20\n",
       "4        2011-02-03"
      ]
     },
     "execution_count": 56,
     "metadata": {},
     "output_type": "execute_result"
    }
   ],
   "source": [
    "date = customer_df1['effective_to_date']\n",
    "date = pd.DataFrame(date)\n",
    "date.head()"
   ]
  },
  {
   "cell_type": "code",
   "execution_count": 57,
   "id": "c66d9e51",
   "metadata": {},
   "outputs": [
    {
     "data": {
      "text/html": [
       "<div>\n",
       "<style scoped>\n",
       "    .dataframe tbody tr th:only-of-type {\n",
       "        vertical-align: middle;\n",
       "    }\n",
       "\n",
       "    .dataframe tbody tr th {\n",
       "        vertical-align: top;\n",
       "    }\n",
       "\n",
       "    .dataframe thead th {\n",
       "        text-align: right;\n",
       "    }\n",
       "</style>\n",
       "<table border=\"1\" class=\"dataframe\">\n",
       "  <thead>\n",
       "    <tr style=\"text-align: right;\">\n",
       "      <th></th>\n",
       "      <th>effective_to_date</th>\n",
       "      <th>day</th>\n",
       "      <th>week</th>\n",
       "      <th>month</th>\n",
       "    </tr>\n",
       "  </thead>\n",
       "  <tbody>\n",
       "    <tr>\n",
       "      <th>0</th>\n",
       "      <td>2011-02-24</td>\n",
       "      <td>24</td>\n",
       "      <td>8</td>\n",
       "      <td>2</td>\n",
       "    </tr>\n",
       "    <tr>\n",
       "      <th>1</th>\n",
       "      <td>2011-01-31</td>\n",
       "      <td>31</td>\n",
       "      <td>5</td>\n",
       "      <td>1</td>\n",
       "    </tr>\n",
       "    <tr>\n",
       "      <th>2</th>\n",
       "      <td>2011-02-19</td>\n",
       "      <td>19</td>\n",
       "      <td>7</td>\n",
       "      <td>2</td>\n",
       "    </tr>\n",
       "    <tr>\n",
       "      <th>3</th>\n",
       "      <td>2011-01-20</td>\n",
       "      <td>20</td>\n",
       "      <td>3</td>\n",
       "      <td>1</td>\n",
       "    </tr>\n",
       "    <tr>\n",
       "      <th>4</th>\n",
       "      <td>2011-02-03</td>\n",
       "      <td>3</td>\n",
       "      <td>5</td>\n",
       "      <td>2</td>\n",
       "    </tr>\n",
       "    <tr>\n",
       "      <th>...</th>\n",
       "      <td>...</td>\n",
       "      <td>...</td>\n",
       "      <td>...</td>\n",
       "      <td>...</td>\n",
       "    </tr>\n",
       "    <tr>\n",
       "      <th>9129</th>\n",
       "      <td>2011-02-10</td>\n",
       "      <td>10</td>\n",
       "      <td>6</td>\n",
       "      <td>2</td>\n",
       "    </tr>\n",
       "    <tr>\n",
       "      <th>9130</th>\n",
       "      <td>2011-02-12</td>\n",
       "      <td>12</td>\n",
       "      <td>6</td>\n",
       "      <td>2</td>\n",
       "    </tr>\n",
       "    <tr>\n",
       "      <th>9131</th>\n",
       "      <td>2011-02-06</td>\n",
       "      <td>6</td>\n",
       "      <td>5</td>\n",
       "      <td>2</td>\n",
       "    </tr>\n",
       "    <tr>\n",
       "      <th>9132</th>\n",
       "      <td>2011-02-03</td>\n",
       "      <td>3</td>\n",
       "      <td>5</td>\n",
       "      <td>2</td>\n",
       "    </tr>\n",
       "    <tr>\n",
       "      <th>9133</th>\n",
       "      <td>2011-02-14</td>\n",
       "      <td>14</td>\n",
       "      <td>7</td>\n",
       "      <td>2</td>\n",
       "    </tr>\n",
       "  </tbody>\n",
       "</table>\n",
       "<p>9134 rows × 4 columns</p>\n",
       "</div>"
      ],
      "text/plain": [
       "     effective_to_date  day  week  month\n",
       "0           2011-02-24   24     8      2\n",
       "1           2011-01-31   31     5      1\n",
       "2           2011-02-19   19     7      2\n",
       "3           2011-01-20   20     3      1\n",
       "4           2011-02-03    3     5      2\n",
       "...                ...  ...   ...    ...\n",
       "9129        2011-02-10   10     6      2\n",
       "9130        2011-02-12   12     6      2\n",
       "9131        2011-02-06    6     5      2\n",
       "9132        2011-02-03    3     5      2\n",
       "9133        2011-02-14   14     7      2\n",
       "\n",
       "[9134 rows x 4 columns]"
      ]
     },
     "execution_count": 57,
     "metadata": {},
     "output_type": "execute_result"
    }
   ],
   "source": [
    "date['day'] = date['effective_to_date'].dt.day\n",
    "date['week'] = date['effective_to_date'].dt.week\n",
    "date['month'] = date['effective_to_date'].dt.month\n",
    "date"
   ]
  },
  {
   "cell_type": "markdown",
   "id": "173b13bf-3564-47d6-8efa-ddbb8c8d90f7",
   "metadata": {},
   "source": [
    "### Since the model will only accept numerical data, check and make sure that every column is numerical, if some are not, change it using encoding."
   ]
  },
  {
   "cell_type": "code",
   "execution_count": 58,
   "id": "7ca391e2",
   "metadata": {},
   "outputs": [
    {
     "data": {
      "text/html": [
       "<div>\n",
       "<style scoped>\n",
       "    .dataframe tbody tr th:only-of-type {\n",
       "        vertical-align: middle;\n",
       "    }\n",
       "\n",
       "    .dataframe tbody tr th {\n",
       "        vertical-align: top;\n",
       "    }\n",
       "\n",
       "    .dataframe thead th {\n",
       "        text-align: right;\n",
       "    }\n",
       "</style>\n",
       "<table border=\"1\" class=\"dataframe\">\n",
       "  <thead>\n",
       "    <tr style=\"text-align: right;\">\n",
       "      <th></th>\n",
       "      <th>customer_lifetime_value</th>\n",
       "      <th>income</th>\n",
       "      <th>monthly_premium_auto</th>\n",
       "      <th>months_since_last_claim</th>\n",
       "      <th>months_since_policy_inception</th>\n",
       "      <th>number_of_open_complaints</th>\n",
       "      <th>number_of_policies</th>\n",
       "      <th>total_claim_amount</th>\n",
       "      <th>coverage</th>\n",
       "      <th>education</th>\n",
       "      <th>...</th>\n",
       "      <th>vehicle_class_Four-Door Car</th>\n",
       "      <th>vehicle_class_Luxury Car</th>\n",
       "      <th>vehicle_class_Luxury SUV</th>\n",
       "      <th>vehicle_class_SUV</th>\n",
       "      <th>vehicle_class_Sports Car</th>\n",
       "      <th>vehicle_class_Two-Door Car</th>\n",
       "      <th>effective_to_date</th>\n",
       "      <th>day</th>\n",
       "      <th>week</th>\n",
       "      <th>month</th>\n",
       "    </tr>\n",
       "  </thead>\n",
       "  <tbody>\n",
       "    <tr>\n",
       "      <th>0</th>\n",
       "      <td>-1.044476</td>\n",
       "      <td>0.612827</td>\n",
       "      <td>-0.791655</td>\n",
       "      <td>1.678099</td>\n",
       "      <td>-1.543287</td>\n",
       "      <td>-0.42225</td>\n",
       "      <td>-0.832582</td>\n",
       "      <td>-0.139489</td>\n",
       "      <td>0</td>\n",
       "      <td>2</td>\n",
       "      <td>...</td>\n",
       "      <td>0</td>\n",
       "      <td>0</td>\n",
       "      <td>0</td>\n",
       "      <td>0</td>\n",
       "      <td>0</td>\n",
       "      <td>1</td>\n",
       "      <td>2011-02-24</td>\n",
       "      <td>24</td>\n",
       "      <td>8</td>\n",
       "      <td>2</td>\n",
       "    </tr>\n",
       "    <tr>\n",
       "      <th>1</th>\n",
       "      <td>-0.048694</td>\n",
       "      <td>-1.239617</td>\n",
       "      <td>0.088171</td>\n",
       "      <td>-0.208186</td>\n",
       "      <td>-0.217334</td>\n",
       "      <td>-0.42225</td>\n",
       "      <td>2.166327</td>\n",
       "      <td>2.256390</td>\n",
       "      <td>1</td>\n",
       "      <td>2</td>\n",
       "      <td>...</td>\n",
       "      <td>1</td>\n",
       "      <td>0</td>\n",
       "      <td>0</td>\n",
       "      <td>0</td>\n",
       "      <td>0</td>\n",
       "      <td>0</td>\n",
       "      <td>2011-01-31</td>\n",
       "      <td>31</td>\n",
       "      <td>5</td>\n",
       "      <td>1</td>\n",
       "    </tr>\n",
       "    <tr>\n",
       "      <th>2</th>\n",
       "      <td>1.346693</td>\n",
       "      <td>0.365710</td>\n",
       "      <td>0.580874</td>\n",
       "      <td>0.288205</td>\n",
       "      <td>-0.360680</td>\n",
       "      <td>-0.42225</td>\n",
       "      <td>-0.404167</td>\n",
       "      <td>0.616673</td>\n",
       "      <td>2</td>\n",
       "      <td>2</td>\n",
       "      <td>...</td>\n",
       "      <td>0</td>\n",
       "      <td>0</td>\n",
       "      <td>0</td>\n",
       "      <td>0</td>\n",
       "      <td>0</td>\n",
       "      <td>1</td>\n",
       "      <td>2011-02-19</td>\n",
       "      <td>19</td>\n",
       "      <td>7</td>\n",
       "      <td>2</td>\n",
       "    </tr>\n",
       "    <tr>\n",
       "      <th>3</th>\n",
       "      <td>0.108685</td>\n",
       "      <td>-1.239617</td>\n",
       "      <td>0.510488</td>\n",
       "      <td>0.288205</td>\n",
       "      <td>0.606907</td>\n",
       "      <td>-0.42225</td>\n",
       "      <td>1.737911</td>\n",
       "      <td>0.464363</td>\n",
       "      <td>0</td>\n",
       "      <td>2</td>\n",
       "      <td>...</td>\n",
       "      <td>0</td>\n",
       "      <td>0</td>\n",
       "      <td>0</td>\n",
       "      <td>1</td>\n",
       "      <td>0</td>\n",
       "      <td>0</td>\n",
       "      <td>2011-01-20</td>\n",
       "      <td>20</td>\n",
       "      <td>3</td>\n",
       "      <td>1</td>\n",
       "    </tr>\n",
       "    <tr>\n",
       "      <th>4</th>\n",
       "      <td>-1.032626</td>\n",
       "      <td>0.203390</td>\n",
       "      <td>-0.650882</td>\n",
       "      <td>-0.307465</td>\n",
       "      <td>-0.145661</td>\n",
       "      <td>-0.42225</td>\n",
       "      <td>-0.832582</td>\n",
       "      <td>-1.166292</td>\n",
       "      <td>0</td>\n",
       "      <td>2</td>\n",
       "      <td>...</td>\n",
       "      <td>1</td>\n",
       "      <td>0</td>\n",
       "      <td>0</td>\n",
       "      <td>0</td>\n",
       "      <td>0</td>\n",
       "      <td>0</td>\n",
       "      <td>2011-02-03</td>\n",
       "      <td>3</td>\n",
       "      <td>5</td>\n",
       "      <td>2</td>\n",
       "    </tr>\n",
       "  </tbody>\n",
       "</table>\n",
       "<p>5 rows × 60 columns</p>\n",
       "</div>"
      ],
      "text/plain": [
       "   customer_lifetime_value    income  monthly_premium_auto  \\\n",
       "0                -1.044476  0.612827             -0.791655   \n",
       "1                -0.048694 -1.239617              0.088171   \n",
       "2                 1.346693  0.365710              0.580874   \n",
       "3                 0.108685 -1.239617              0.510488   \n",
       "4                -1.032626  0.203390             -0.650882   \n",
       "\n",
       "   months_since_last_claim  months_since_policy_inception  \\\n",
       "0                 1.678099                      -1.543287   \n",
       "1                -0.208186                      -0.217334   \n",
       "2                 0.288205                      -0.360680   \n",
       "3                 0.288205                       0.606907   \n",
       "4                -0.307465                      -0.145661   \n",
       "\n",
       "   number_of_open_complaints  number_of_policies  total_claim_amount  \\\n",
       "0                   -0.42225           -0.832582           -0.139489   \n",
       "1                   -0.42225            2.166327            2.256390   \n",
       "2                   -0.42225           -0.404167            0.616673   \n",
       "3                   -0.42225            1.737911            0.464363   \n",
       "4                   -0.42225           -0.832582           -1.166292   \n",
       "\n",
       "   coverage  education  ...  vehicle_class_Four-Door Car  \\\n",
       "0         0          2  ...                            0   \n",
       "1         1          2  ...                            1   \n",
       "2         2          2  ...                            0   \n",
       "3         0          2  ...                            0   \n",
       "4         0          2  ...                            1   \n",
       "\n",
       "   vehicle_class_Luxury Car  vehicle_class_Luxury SUV  vehicle_class_SUV  \\\n",
       "0                         0                         0                  0   \n",
       "1                         0                         0                  0   \n",
       "2                         0                         0                  0   \n",
       "3                         0                         0                  1   \n",
       "4                         0                         0                  0   \n",
       "\n",
       "   vehicle_class_Sports Car  vehicle_class_Two-Door Car  effective_to_date  \\\n",
       "0                         0                           1         2011-02-24   \n",
       "1                         0                           0         2011-01-31   \n",
       "2                         0                           1         2011-02-19   \n",
       "3                         0                           0         2011-01-20   \n",
       "4                         0                           0         2011-02-03   \n",
       "\n",
       "   day  week  month  \n",
       "0   24     8      2  \n",
       "1   31     5      1  \n",
       "2   19     7      2  \n",
       "3   20     3      1  \n",
       "4    3     5      2  \n",
       "\n",
       "[5 rows x 60 columns]"
      ]
     },
     "execution_count": 58,
     "metadata": {},
     "output_type": "execute_result"
    }
   ],
   "source": [
    "customer_df_processed = pd.concat([num_scaled, cat_encoded, date], axis=1)\n",
    "customer_df_processed.head()"
   ]
  },
  {
   "cell_type": "code",
   "execution_count": 59,
   "id": "2111eef1",
   "metadata": {},
   "outputs": [
    {
     "name": "stdout",
     "output_type": "stream",
     "text": [
      "<class 'pandas.core.frame.DataFrame'>\n",
      "RangeIndex: 9134 entries, 0 to 9133\n",
      "Data columns (total 60 columns):\n",
      " #   Column                          Non-Null Count  Dtype         \n",
      "---  ------                          --------------  -----         \n",
      " 0   customer_lifetime_value         9134 non-null   float64       \n",
      " 1   income                          9134 non-null   float64       \n",
      " 2   monthly_premium_auto            9134 non-null   float64       \n",
      " 3   months_since_last_claim         9134 non-null   float64       \n",
      " 4   months_since_policy_inception   9134 non-null   float64       \n",
      " 5   number_of_open_complaints       9134 non-null   float64       \n",
      " 6   number_of_policies              9134 non-null   float64       \n",
      " 7   total_claim_amount              9134 non-null   float64       \n",
      " 8   coverage                        9134 non-null   int64         \n",
      " 9   education                       9134 non-null   int64         \n",
      " 10  employmentstatus                9134 non-null   int64         \n",
      " 11  location_code                   9134 non-null   int64         \n",
      " 12  vehicle_size                    9134 non-null   int64         \n",
      " 13  state_Arizona                   9134 non-null   uint8         \n",
      " 14  state_California                9134 non-null   uint8         \n",
      " 15  state_Nevada                    9134 non-null   uint8         \n",
      " 16  state_Oregon                    9134 non-null   uint8         \n",
      " 17  state_Washington                9134 non-null   uint8         \n",
      " 18  response_No                     9134 non-null   uint8         \n",
      " 19  response_Yes                    9134 non-null   uint8         \n",
      " 20  education_Bachelor              9134 non-null   uint8         \n",
      " 21  education_College               9134 non-null   uint8         \n",
      " 22  education_Doctor                9134 non-null   uint8         \n",
      " 23  education_High School or Below  9134 non-null   uint8         \n",
      " 24  education_Master                9134 non-null   uint8         \n",
      " 25  gender_F                        9134 non-null   uint8         \n",
      " 26  gender_M                        9134 non-null   uint8         \n",
      " 27  marital_status_Divorced         9134 non-null   uint8         \n",
      " 28  marital_status_Married          9134 non-null   uint8         \n",
      " 29  marital_status_Single           9134 non-null   uint8         \n",
      " 30  policy_type_Corporate Auto      9134 non-null   uint8         \n",
      " 31  policy_type_Personal Auto       9134 non-null   uint8         \n",
      " 32  policy_type_Special Auto        9134 non-null   uint8         \n",
      " 33  policy_Corporate L1             9134 non-null   uint8         \n",
      " 34  policy_Corporate L2             9134 non-null   uint8         \n",
      " 35  policy_Corporate L3             9134 non-null   uint8         \n",
      " 36  policy_Personal L1              9134 non-null   uint8         \n",
      " 37  policy_Personal L2              9134 non-null   uint8         \n",
      " 38  policy_Personal L3              9134 non-null   uint8         \n",
      " 39  policy_Special L1               9134 non-null   uint8         \n",
      " 40  policy_Special L2               9134 non-null   uint8         \n",
      " 41  policy_Special L3               9134 non-null   uint8         \n",
      " 42  renew_offer_type_Offer1         9134 non-null   uint8         \n",
      " 43  renew_offer_type_Offer2         9134 non-null   uint8         \n",
      " 44  renew_offer_type_Offer3         9134 non-null   uint8         \n",
      " 45  renew_offer_type_Offer4         9134 non-null   uint8         \n",
      " 46  sales_channel_Agent             9134 non-null   uint8         \n",
      " 47  sales_channel_Branch            9134 non-null   uint8         \n",
      " 48  sales_channel_Call Center       9134 non-null   uint8         \n",
      " 49  sales_channel_Web               9134 non-null   uint8         \n",
      " 50  vehicle_class_Four-Door Car     9134 non-null   uint8         \n",
      " 51  vehicle_class_Luxury Car        9134 non-null   uint8         \n",
      " 52  vehicle_class_Luxury SUV        9134 non-null   uint8         \n",
      " 53  vehicle_class_SUV               9134 non-null   uint8         \n",
      " 54  vehicle_class_Sports Car        9134 non-null   uint8         \n",
      " 55  vehicle_class_Two-Door Car      9134 non-null   uint8         \n",
      " 56  effective_to_date               9134 non-null   datetime64[ns]\n",
      " 57  day                             9134 non-null   int64         \n",
      " 58  week                            9134 non-null   int64         \n",
      " 59  month                           9134 non-null   int64         \n",
      "dtypes: datetime64[ns](1), float64(8), int64(8), uint8(43)\n",
      "memory usage: 1.6 MB\n"
     ]
    }
   ],
   "source": [
    "customer_df_processed.info()"
   ]
  },
  {
   "cell_type": "code",
   "execution_count": 60,
   "id": "9dc4aa1d",
   "metadata": {},
   "outputs": [
    {
     "name": "stdout",
     "output_type": "stream",
     "text": [
      "<class 'pandas.core.frame.DataFrame'>\n",
      "RangeIndex: 9134 entries, 0 to 9133\n",
      "Data columns (total 59 columns):\n",
      " #   Column                          Non-Null Count  Dtype  \n",
      "---  ------                          --------------  -----  \n",
      " 0   customer_lifetime_value         9134 non-null   float64\n",
      " 1   income                          9134 non-null   float64\n",
      " 2   monthly_premium_auto            9134 non-null   float64\n",
      " 3   months_since_last_claim         9134 non-null   float64\n",
      " 4   months_since_policy_inception   9134 non-null   float64\n",
      " 5   number_of_open_complaints       9134 non-null   float64\n",
      " 6   number_of_policies              9134 non-null   float64\n",
      " 7   total_claim_amount              9134 non-null   float64\n",
      " 8   coverage                        9134 non-null   int64  \n",
      " 9   education                       9134 non-null   int64  \n",
      " 10  employmentstatus                9134 non-null   int64  \n",
      " 11  location_code                   9134 non-null   int64  \n",
      " 12  vehicle_size                    9134 non-null   int64  \n",
      " 13  state_Arizona                   9134 non-null   uint8  \n",
      " 14  state_California                9134 non-null   uint8  \n",
      " 15  state_Nevada                    9134 non-null   uint8  \n",
      " 16  state_Oregon                    9134 non-null   uint8  \n",
      " 17  state_Washington                9134 non-null   uint8  \n",
      " 18  response_No                     9134 non-null   uint8  \n",
      " 19  response_Yes                    9134 non-null   uint8  \n",
      " 20  education_Bachelor              9134 non-null   uint8  \n",
      " 21  education_College               9134 non-null   uint8  \n",
      " 22  education_Doctor                9134 non-null   uint8  \n",
      " 23  education_High School or Below  9134 non-null   uint8  \n",
      " 24  education_Master                9134 non-null   uint8  \n",
      " 25  gender_F                        9134 non-null   uint8  \n",
      " 26  gender_M                        9134 non-null   uint8  \n",
      " 27  marital_status_Divorced         9134 non-null   uint8  \n",
      " 28  marital_status_Married          9134 non-null   uint8  \n",
      " 29  marital_status_Single           9134 non-null   uint8  \n",
      " 30  policy_type_Corporate Auto      9134 non-null   uint8  \n",
      " 31  policy_type_Personal Auto       9134 non-null   uint8  \n",
      " 32  policy_type_Special Auto        9134 non-null   uint8  \n",
      " 33  policy_Corporate L1             9134 non-null   uint8  \n",
      " 34  policy_Corporate L2             9134 non-null   uint8  \n",
      " 35  policy_Corporate L3             9134 non-null   uint8  \n",
      " 36  policy_Personal L1              9134 non-null   uint8  \n",
      " 37  policy_Personal L2              9134 non-null   uint8  \n",
      " 38  policy_Personal L3              9134 non-null   uint8  \n",
      " 39  policy_Special L1               9134 non-null   uint8  \n",
      " 40  policy_Special L2               9134 non-null   uint8  \n",
      " 41  policy_Special L3               9134 non-null   uint8  \n",
      " 42  renew_offer_type_Offer1         9134 non-null   uint8  \n",
      " 43  renew_offer_type_Offer2         9134 non-null   uint8  \n",
      " 44  renew_offer_type_Offer3         9134 non-null   uint8  \n",
      " 45  renew_offer_type_Offer4         9134 non-null   uint8  \n",
      " 46  sales_channel_Agent             9134 non-null   uint8  \n",
      " 47  sales_channel_Branch            9134 non-null   uint8  \n",
      " 48  sales_channel_Call Center       9134 non-null   uint8  \n",
      " 49  sales_channel_Web               9134 non-null   uint8  \n",
      " 50  vehicle_class_Four-Door Car     9134 non-null   uint8  \n",
      " 51  vehicle_class_Luxury Car        9134 non-null   uint8  \n",
      " 52  vehicle_class_Luxury SUV        9134 non-null   uint8  \n",
      " 53  vehicle_class_SUV               9134 non-null   uint8  \n",
      " 54  vehicle_class_Sports Car        9134 non-null   uint8  \n",
      " 55  vehicle_class_Two-Door Car      9134 non-null   uint8  \n",
      " 56  day                             9134 non-null   int64  \n",
      " 57  week                            9134 non-null   int64  \n",
      " 58  month                           9134 non-null   int64  \n",
      "dtypes: float64(8), int64(8), uint8(43)\n",
      "memory usage: 1.5 MB\n"
     ]
    }
   ],
   "source": [
    "customer_df_processed = customer_df_processed.drop('effective_to_date', axis=1)\n",
    "customer_df_processed.info()"
   ]
  }
 ],
 "metadata": {
  "kernelspec": {
   "display_name": "Python 3",
   "language": "python",
   "name": "python3"
  },
  "language_info": {
   "codemirror_mode": {
    "name": "ipython",
    "version": 3
   },
   "file_extension": ".py",
   "mimetype": "text/x-python",
   "name": "python",
   "nbconvert_exporter": "python",
   "pygments_lexer": "ipython3",
   "version": "3.9.6"
  },
  "toc": {
   "base_numbering": 1,
   "nav_menu": {},
   "number_sections": true,
   "sideBar": true,
   "skip_h1_title": true,
   "title_cell": "Table of Contents",
   "title_sidebar": "Contents",
   "toc_cell": true,
   "toc_position": {},
   "toc_section_display": true,
   "toc_window_display": true
  }
 },
 "nbformat": 4,
 "nbformat_minor": 5
}
